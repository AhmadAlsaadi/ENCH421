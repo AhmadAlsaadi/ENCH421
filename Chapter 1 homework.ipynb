{
 "cells": [
  {
   "cell_type": "markdown",
   "id": "790879a6",
   "metadata": {},
   "source": [
    "**Problem 1**   \n",
    "\n",
    "Which of the following statements are true? For the false\n",
    "statements, explain why you think they are false:  \n",
    "\n",
    ">(a) Feedforward and feedback control require a measured\n",
    "variable.   \n",
    "\n",
    ">(b) For feedforward control, the measured variable is the variable to be controlled.   \n",
    "\n",
    ">(c) Feedback control theoretically can provide perfect control\n",
    "(i.e., no deviations from set point) if the process model used to\n",
    "design the control system is perfect.   \n",
    "\n",
    ">(d) Feedback control takes corrective action for all types of\n",
    "process disturbances, both known and unknown.   \n",
    "\n",
    ">(e) Feedback control is superior to feedforward control."
   ]
  },
  {
   "cell_type": "code",
   "execution_count": null,
   "id": "a88cc1ae",
   "metadata": {},
   "outputs": [],
   "source": [
    "# write your answer to problem 1 here\n",
    "# do not forget to change this cell to markdown cell."
   ]
  },
  {
   "cell_type": "markdown",
   "id": "cf5515db",
   "metadata": {},
   "source": [
    "**Problem 2**   \n",
    "\n",
    "Consider a home heating system consisting of a natural\n",
    "gas-fired furnace and a thermostat. In this case, the process\n",
    "consists of the interior space to be heated. The thermostat\n",
    "contains both the temperature sensor and the controller.\n",
    "The furnace is either on (heating) or off. Draw a schematic\n",
    "diagram for this control system. On your diagram, identify the\n",
    "controlled variables, manipulated variables, and disturbance\n",
    "variables. Be sure to include several possible sources of\n",
    "disturbances that can affect room temperature."
   ]
  },
  {
   "cell_type": "code",
   "execution_count": 1,
   "id": "f3b40fd3",
   "metadata": {},
   "outputs": [],
   "source": [
    "# write your answer to problem 2 here\n",
    "# do not forget to change this cell to markdown cell"
   ]
  },
  {
   "cell_type": "markdown",
   "id": "31355c77",
   "metadata": {},
   "source": [
    "**Problem 3**\n",
    "\n",
    "In addition to a thermostatically operated home heating\n",
    "system, identify two other feedback control systems that can\n",
    "be found in most residences. Describe briefly how each of them\n",
    "works; include sensor, actuator, and controller information."
   ]
  },
  {
   "cell_type": "code",
   "execution_count": null,
   "id": "fd5656e6",
   "metadata": {},
   "outputs": [],
   "source": [
    "# write your answer to problem 2 here\n",
    "# do not forget to change this cell to markdown cell"
   ]
  }
 ],
 "metadata": {
  "kernelspec": {
   "display_name": "Python 3 (ipykernel)",
   "language": "python",
   "name": "python3"
  },
  "language_info": {
   "codemirror_mode": {
    "name": "ipython",
    "version": 3
   },
   "file_extension": ".py",
   "mimetype": "text/x-python",
   "name": "python",
   "nbconvert_exporter": "python",
   "pygments_lexer": "ipython3",
   "version": "3.11.0"
  }
 },
 "nbformat": 4,
 "nbformat_minor": 5
}
