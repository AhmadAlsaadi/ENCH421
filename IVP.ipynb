{
 "cells": [
  {
   "cell_type": "markdown",
   "id": "0960dfa0",
   "metadata": {},
   "source": [
    "**Example 5.1** from Numerical Methods in Chemical Engineering Using Python® and Simulink®   \n",
    "\n",
    "Solve the following two ODEs simultaneously using the eigenvalue and eigenvector technique.\n",
    "\n",
    "$$\\frac{dy_1}{dt}=-3y_1 + 2y_2, y_1(0) = 1$$\n",
    "$$\\frac{dy_2}{dt}= y_1 -2y_2, y_2(0) = 0$$\n",
    "\n",
    "Find the values of $y_1$ and $y_2$ when t=2"
   ]
  },
  {
   "cell_type": "code",
   "execution_count": 1,
   "id": "d3d211c7",
   "metadata": {},
   "outputs": [],
   "source": [
    "# Example 5.1\n",
    "import numpy as np\n",
    "import matplotlib.pyplot as plt\n",
    "A = np.array([[-3,2], [1,-2]])\n",
    "\n",
    "# extract eigenvalues\n",
    "[w, v]= np.linalg.eig(A)\n",
    "y10 = 1\n",
    "y20 = 0\n",
    "Pinitial = np.array([y10, y20])\n",
    "C1, C2 = np.linalg.solve(v, Pinitial)\n",
    "\n",
    "# combine everything to get the solution to P1\n",
    "t = np.linspace(0,2)\n",
    "fig = plt.figure()\n",
    "t=np.linspace(0,2,100)\n",
    "y1 = C1 * np.exp(w[0]*t)*v[0,0] + C2 * np.exp(w[1] * t) * v[0,1]\n",
    "y2 = C1 * np.exp(w[0]*t)*v[1,0] + C2 * np.exp(w[1] * t) * v[1,1]\n",
    "\n",
    "#plt.plot(t, y1, t, y2)\n",
    "plt.plot(t, y1, ‘-r’, label=’y1’)\n",
    "plt.plot(t, y2, ‘:b’, label=’y2’)\n",
    "plt.grid(True)\n",
    "plt.ylabel(“y”, rotation =0)\n",
    "plt.xlabel(“Time”)\n",
    "plt.legend()"
   ]
  },
  {
   "cell_type": "code",
   "execution_count": 3,
   "id": "36b299b7",
   "metadata": {},
   "outputs": [
    {
     "data": {
      "text/plain": [
       "array([[-0.89442719, -0.70710678],\n",
       "       [ 0.4472136 , -0.70710678]])"
      ]
     },
     "execution_count": 3,
     "metadata": {},
     "output_type": "execute_result"
    }
   ],
   "source": [
    "v"
   ]
  },
  {
   "cell_type": "code",
   "execution_count": null,
   "id": "4d1d9fed",
   "metadata": {},
   "outputs": [],
   "source": []
  }
 ],
 "metadata": {
  "kernelspec": {
   "display_name": "Python 3 (ipykernel)",
   "language": "python",
   "name": "python3"
  },
  "language_info": {
   "codemirror_mode": {
    "name": "ipython",
    "version": 3
   },
   "file_extension": ".py",
   "mimetype": "text/x-python",
   "name": "python",
   "nbconvert_exporter": "python",
   "pygments_lexer": "ipython3",
   "version": "3.11.0"
  }
 },
 "nbformat": 4,
 "nbformat_minor": 5
}
