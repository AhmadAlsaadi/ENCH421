{
 "cells": [
  {
   "cell_type": "code",
   "execution_count": 3,
   "id": "e1c25203",
   "metadata": {},
   "outputs": [],
   "source": [
    "import numpy as np\n",
    "from ipywidgets import interact\n",
    "import matplotlib.pyplot as plt"
   ]
  },
  {
   "cell_type": "code",
   "execution_count": 20,
   "id": "a1e6cc54",
   "metadata": {},
   "outputs": [
    {
     "data": {
      "application/vnd.jupyter.widget-view+json": {
       "model_id": "5e238d692a62459f90c3b2ab169e83de",
       "version_major": 2,
       "version_minor": 0
      },
      "text/plain": [
       "interactive(children=(FloatSlider(value=1.0, description='K', max=6.0, min=-3.0), FloatSlider(value=1.0, descr…"
      ]
     },
     "metadata": {},
     "output_type": "display_data"
    }
   ],
   "source": [
    "@interact\n",
    "def first_order_step_input(K=(-3,6,.1),M=(-3,6,.1),tau=(0.1,50,.1)):\n",
    "    t=np.linspace(0,100)\n",
    "    y=M*K*(1-np.exp(-t/tau))\n",
    "    plt.plot(t,y)\n",
    "    plt.ylabel(\"y\")\n",
    "    plt.xlabel(\"time\")\n",
    "    plt.show() "
   ]
  },
  {
   "cell_type": "code",
   "execution_count": null,
   "id": "828c5f75",
   "metadata": {},
   "outputs": [],
   "source": [
    "@interact\n",
    "def first_order_step_input(K=(-3,6,.1),M=(-3,6,.1),tau=(0.1,50,.1)):\n",
    "    ys=25\n",
    "    t=np.linspace(0,100)\n",
    "    y=M*K*(1-np.exp(-t/tau))\n",
    "    plt.plot(t,y)\n",
    "    plt.ylabel(\"y\")\n",
    "    plt.xlabel(\"time\")\n",
    "    plt.show()"
   ]
  }
 ],
 "metadata": {
  "kernelspec": {
   "display_name": "Python 3 (ipykernel)",
   "language": "python",
   "name": "python3"
  },
  "language_info": {
   "codemirror_mode": {
    "name": "ipython",
    "version": 3
   },
   "file_extension": ".py",
   "mimetype": "text/x-python",
   "name": "python",
   "nbconvert_exporter": "python",
   "pygments_lexer": "ipython3",
   "version": "3.11.0"
  }
 },
 "nbformat": 4,
 "nbformat_minor": 5
}
