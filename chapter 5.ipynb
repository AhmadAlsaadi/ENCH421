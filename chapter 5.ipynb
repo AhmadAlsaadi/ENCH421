{
 "cells": [
  {
   "cell_type": "markdown",
   "id": "c80e5773",
   "metadata": {},
   "source": [
    "[![Open in Colab](https://colab.research.google.com/assets/colab-badge.svg)](https://colab.research.google.com/github/AhmadAlsaadi/ENCH421/blob/main/chapter%205.ipynb)"
   ]
  },
  {
   "cell_type": "code",
   "execution_count": 3,
   "id": "56f7d787",
   "metadata": {},
   "outputs": [],
   "source": [
    "import numpy as np\n",
    "from ipywidgets import interact\n",
    "import matplotlib.pyplot as plt"
   ]
  },
  {
   "cell_type": "code",
   "execution_count": 39,
   "id": "e8a5c637",
   "metadata": {},
   "outputs": [
    {
     "data": {
      "application/vnd.jupyter.widget-view+json": {
       "model_id": "b38c0befed654c4db6d70f66f186855d",
       "version_major": 2,
       "version_minor": 0
      },
      "text/plain": [
       "interactive(children=(FloatSlider(value=1.0, description='K', max=6.0, min=-3.0), FloatSlider(value=1.0, descr…"
      ]
     },
     "metadata": {},
     "output_type": "display_data"
    }
   ],
   "source": [
    "@interact\n",
    "def first_order_step_input(K=(-3,6,.1),M=(-3,6,.1),𝜏=(0.1,50,.1)):\n",
    "    t=np.linspace(0,100)\n",
    "    y=M*K*(1-np.exp(-t/𝜏))\n",
    "    u=np.zeros(50)\n",
    "    u[1:]=M\n",
    "    plt.plot(t,y,label=\"y\")\n",
    "    plt.plot(t,u, label=\"u\")\n",
    "    plt.ylabel(\"y and u\")\n",
    "    plt.xlabel(\"time\")\n",
    "    plt.legend()\n",
    "    plt.show() "
   ]
  },
  {
   "cell_type": "code",
   "execution_count": 40,
   "id": "5ed07d81",
   "metadata": {
    "scrolled": true
   },
   "outputs": [
    {
     "data": {
      "application/vnd.jupyter.widget-view+json": {
       "model_id": "ad430d48ba15420598420264b3bfca76",
       "version_major": 2,
       "version_minor": 0
      },
      "text/plain": [
       "interactive(children=(FloatSlider(value=1.0, description='K', max=6.0, min=-3.0), FloatSlider(value=1.0, descr…"
      ]
     },
     "metadata": {},
     "output_type": "display_data"
    }
   ],
   "source": [
    "@interact\n",
    "def first_order_ramp_input(K=(-3,6,.1),a=(-3,6,.1),𝜏=(0.1,50,.1)):\n",
    "    t=np.linspace(0,100)\n",
    "    y=K*a*𝜏*(np.exp(-t/𝜏)-1)+K*a*t\n",
    "    plt.plot(t,y, label=\"y\")\n",
    "    plt.plot(t,a*t, label=\"u\")\n",
    "    plt.ylabel(\"y and u\")\n",
    "    plt.xlabel(\"time\")\n",
    "    plt.legend()\n",
    "    plt.show()"
   ]
  },
  {
   "cell_type": "code",
   "execution_count": 53,
   "id": "0e4c7698",
   "metadata": {},
   "outputs": [
    {
     "data": {
      "application/vnd.jupyter.widget-view+json": {
       "model_id": "e57bcb741d6d4f5180cc97ceb857ff20",
       "version_major": 2,
       "version_minor": 0
      },
      "text/plain": [
       "interactive(children=(IntSlider(value=5, description='K', max=10, min=1), FloatSlider(value=0.5, description='…"
      ]
     },
     "metadata": {},
     "output_type": "display_data"
    }
   ],
   "source": [
    "@interact\n",
    "def first_order_sin_input(K=(1,10,1),A=(.1,1,.1),𝜏=(0.1,50,.1),ω=(0,1,.01)):\n",
    "    t=np.linspace(0,1000,200)\n",
    "    y=K*A/(ω**2*𝜏**2+1)*(ω*𝜏*np.exp(-t/𝜏)-ω*𝜏*np.cos(ω*t)+np.sin(ω*t))\n",
    "    plt.plot(t,y, label=\"y\")\n",
    "    plt.plot(t,A*np.sin(ω*t), label=\"u\")\n",
    "    plt.ylabel(\"y and u\")\n",
    "    plt.xlabel(\"time\")\n",
    "    plt.ylim([-1.1,1.1])\n",
    "    plt.legend()\n",
    "    plt.show()"
   ]
  },
  {
   "cell_type": "code",
   "execution_count": null,
   "id": "bbacd145",
   "metadata": {},
   "outputs": [],
   "source": []
  }
 ],
 "metadata": {
  "kernelspec": {
   "display_name": "Python 3 (ipykernel)",
   "language": "python",
   "name": "python3"
  },
  "language_info": {
   "codemirror_mode": {
    "name": "ipython",
    "version": 3
   },
   "file_extension": ".py",
   "mimetype": "text/x-python",
   "name": "python",
   "nbconvert_exporter": "python",
   "pygments_lexer": "ipython3",
   "version": "3.11.0"
  }
 },
 "nbformat": 4,
 "nbformat_minor": 5
}
