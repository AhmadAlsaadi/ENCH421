{
 "cells": [
  {
   "attachments": {
    "image.png": {
     "image/png": "[encoded data removed]"
    }
   },
   "cell_type": "markdown",
   "id": "fe7aeef3",
   "metadata": {},
   "source": [
    "### Problem No. 1\n",
    "A perfectly stirred, constant-volume tank has two input\n",
    "streams, both consisting of the same liquid. The temperature\n",
    "and flow rate of each of the streams can vary with time.\n",
    "\n",
    "![image.png](attachment:image.png)\n",
    "\n",
    "**(a)** Derive a dynamic model that will describe transient operation. \n",
    "\n",
    "**(b)** Simplify your model, if possible, to one or more differential equations by eliminating any algebraic equations. Also,\n",
    "simplify any derivatives of products of variables.   \n",
    "\n",
    "**(c)** Make a degrees of freedom analysis assuming that both\n",
    "Streams 1 and 2 come from upstream units (i.e., their flow rates\n",
    "and temperatures are known functions of time).\n",
    "\n",
    "**(d)** if the tank volume is 5 $m^3$, the inlet streams are pure water with a density of 1000 $kg/m^3$ and specific heat of 4.2 $kj/kg.C$, Stream 1 enters the tank at 250 $kg/min$ and 25 C and stream 2 enters at 150 $kg/min$ and 50 C, what is the steady state temperature of the outlet temperature.\n",
    "\n",
    "**(e)** if stream 2 was interrupted suddenlty and the tank became fed only with steam 1, plot the temperaure profile of the outlet steam and determine its new steady state temperature.\n",
    "\n",
    "**(f)** if the steady state time is assumed to be reached if the outlet temperature reach 95% of $T_3 (\\infty )$, how long does it take the tank to reach steady state condition after the interruption has takenplace.\n",
    "\n",
    "**Notes**:\n",
    "$w_i$ denotes mass flow rate for stream i.\n",
    "Liquid properties are constant (not functions of temperature)"
   ]
  },
  {
   "cell_type": "markdown",
   "id": "3dccebd8",
   "metadata": {},
   "source": [
    "### Solution"
   ]
  },
  {
   "cell_type": "markdown",
   "id": "c809eea8",
   "metadata": {},
   "source": [
    "**(a)**   \n",
    "overall mass balance:\n",
    "$$\\frac{d(\\rho V)}{dt}=w_1+w_2-w_3$$\n",
    "\n",
    "Energy balance:   \n",
    "$$C\\frac{d[\\rho V(T_3-T_{ref})]}{dt}=w_1C(T_1-T_{ref}) + w_2C(T_2-T_{ref})-w_3C(T_3-T_{ref})$$\n",
    "\n",
    "assumptions:\n",
    "- $\\rho$ is constant\n",
    "- Volume is constant because of the overflow outlet stream\n",
    "\n",
    "overall mass balance becomes:\n",
    "$$w_3=w3_1+w_2$$"
   ]
  },
  {
   "cell_type": "markdown",
   "id": "3b5da1ec",
   "metadata": {},
   "source": [
    "**(b)**   \n",
    "substitue overall mass balance in energy balance equation:\n",
    "\n",
    "$$\n",
    "\\rho C \\bar{V} \\frac{d\\left(T_3-T_{r e f}\\right)}{d t}=\\rho C \\bar{V} \\frac{d T_3}{d t}=w_1 C\\left(T_1-T_{r e f}\\right)+w_2 C\\left(T_2-T_{r e f}\\right)\n",
    "-\\left(w_1+w_2\\right) C\\left(T_3-T_{r e f}\\right)\n",
    "$$\n",
    "\n",
    "Specific heat C can be cancelled as well as $T_{ref}$:\n",
    "\n",
    "$$\n",
    "\\rho \\bar{V} \\frac{d T_3}{d t}=w_1 T_1+w_2 T_2-\\left(w_1+w_2\\right) T_3\n",
    "$$\n",
    "\n",
    "$$\n",
    "\\rho \\bar{V} \\frac{d T_3}{d t}+(w_1+w_2)T_3=w_1 T_1+w_2 T_2 \n",
    "$$\n",
    "\n",
    "$$\n",
    "\\tau \\frac{d T_3}{d t}+T_3=\\beta\\\\\n",
    "\\beta=\\frac{w_1 T_1+w_2 T_2}{w_1+w_2}\\\\\n",
    "\\tau=\\frac{\\rho \\bar{V}}{w_1+w_2}\n",
    "$$"
   ]
  },
  {
   "cell_type": "markdown",
   "id": "2f399578",
   "metadata": {},
   "source": [
    "**(c)**   \n",
    "Degree of greedom analysis:\n",
    "\n",
    "Parameters: $\\rho$, $\\bar{V}$   \n",
    "Variables: $w_1$, $w_2$, $T_1$, $T_2$, $T_3$   \n",
    "NE : 1    \n",
    "NV : 5    \n",
    "\n",
    "Therefore,\n",
    "$$N_F=5-1=4$$\n",
    "\n",
    "Because $w_1$, $w_2$, $T_1$ and $T_2$ are determined by upstream units we could assume that they are known function of time:  \n",
    "\n",
    "$$\n",
    "\\begin{aligned}\n",
    "&w_1=w_1(\\mathrm{t}) \\\\\n",
    "&w_2=w_2(\\mathrm{t}) \\\\\n",
    "&T_1=T_1(\\mathrm{t}) \\\\\n",
    "&T_2=T_2(\\mathrm{t})\n",
    "\\end{aligned}\n",
    "$$\n",
    "Thus, $N_F$ is reduced to 0."
   ]
  },
  {
   "cell_type": "markdown",
   "id": "fa005cfc",
   "metadata": {},
   "source": [
    "**(d)**   "
   ]
  },
  {
   "cell_type": "markdown",
   "id": "6498455b",
   "metadata": {},
   "source": [
    "At steady state the energy balance equation becomes:\n",
    "\n",
    "$$T_3=\\beta=\\frac{w_1T_1+w_2T_2}{(w_1+w_2)}$$"
   ]
  },
  {
   "cell_type": "code",
   "execution_count": 95,
   "id": "6ce64055",
   "metadata": {},
   "outputs": [
    {
     "name": "stdout",
     "output_type": "stream",
     "text": [
      "The steady state temperature of the outlet stream is 34.375 C\n"
     ]
    }
   ],
   "source": [
    "rho=1000 # kg/m3\n",
    "V= 5 # m3\n",
    "w1=250 # kg/min\n",
    "w2=150 # kg/min\n",
    "T1=25 # C\n",
    "T2=50 # C\n",
    "T3=(w1*T1+w2*T2)/(w1+w2)\n",
    "print(f\"The steady state temperature of the outlet stream is {T3} C\")"
   ]
  },
  {
   "cell_type": "markdown",
   "id": "e744864a",
   "metadata": {},
   "source": [
    "**(e)**   \n",
    "Soving the differential equation:\n",
    "\n",
    "$$   \n",
    "\\tau \\frac{d T_3}{d t}+T_3=\\beta,\\qquad T_3(0)=34.375 C\\\\\n",
    "\\beta=\\frac{w_1 T_1+w_2 T_2}{w_1+w_2}=T_1=25\\\\\n",
    "\\tau=\\frac{\\rho \\bar{V}}{w_1+w_2}=\\frac{\\rho \\bar{V}}{w_1}=\\frac{(1000)(5)}{250}=20\n",
    "$$"
   ]
  },
  {
   "cell_type": "markdown",
   "id": "cf073082",
   "metadata": {},
   "source": [
    "Solving the above differential equation with any method you prefer, here I am going to use the python package ***sympy*** to solve the differential equation:"
   ]
  },
  {
   "cell_type": "code",
   "execution_count": 96,
   "id": "d10fe1f7",
   "metadata": {},
   "outputs": [
    {
     "data": {
      "image/png": "[encoded data removed]",
      "text/latex": [
       "$\\displaystyle T_{3}{\\left(t \\right)} = 25 + 9.375 e^{- \\frac{t}{20}}$"
      ],
      "text/plain": [
       "                    -t \n",
       "                    ───\n",
       "                     20\n",
       "T₃(t) = 25 + 9.375⋅ℯ   "
      ]
     },
     "execution_count": 96,
     "metadata": {},
     "output_type": "execute_result"
    }
   ],
   "source": [
    "# using sympy module to find the analytic solution for the ODE\n",
    "\n",
    "import sympy as sp\n",
    "\n",
    "sp.init_printing()\n",
    "tau, beta, t = sp.symbols('tau beta t')\n",
    "T3 = sp.Function('T3')(t)\n",
    "ode = sp.Eq(tau*T3.diff(t)+T3, beta)\n",
    "# apply initial conditions\n",
    "ics={T3.subs(t,0):34.375}\n",
    "\n",
    "sol = sp.dsolve(ode, T3,ics=ics).subs({beta:25,tau:20})\n",
    "sol"
   ]
  },
  {
   "cell_type": "markdown",
   "id": "aa833d88",
   "metadata": {},
   "source": [
    "Plotting the dynamic of the mixing tank through matplotlib package"
   ]
  },
  {
   "cell_type": "code",
   "execution_count": 97,
   "id": "99d61a28",
   "metadata": {},
   "outputs": [
    {
     "data": {
      "image/png": "[encoded data removed]",
      "text/plain": [
       "<Figure size 432x288 with 1 Axes>"
      ]
     },
     "metadata": {
      "needs_background": "light"
     },
     "output_type": "display_data"
    }
   ],
   "source": [
    "import numpy as np\n",
    "import matplotlib.pyplot as plt\n",
    "f=sp.lambdify(t,sol.rhs)\n",
    "t=np.linspace(0,100)\n",
    "T3=f(t)\n",
    "plt.plot(t,T3)\n",
    "plt.xlabel(\"time (min)\")\n",
    "plt.ylabel(\"Temperature (C)\")\n",
    "plt.show()"
   ]
  },
  {
   "cell_type": "markdown",
   "id": "8d538df6",
   "metadata": {},
   "source": [
    "**(f)**\n",
    "from the solution to the differential equation we can obtain the steady state outlet temperature by setting the time as $\\infty$:"
   ]
  },
  {
   "cell_type": "markdown",
   "id": "767a6e6c",
   "metadata": {},
   "source": [
    "$$T_3(t)=34.375e^{-\\frac{t}{20}}+\\beta(1-e^{-\\frac{t}{20}})\\\\\n",
    "T(\\infty)=\\beta=25$$"
   ]
  },
  {
   "cell_type": "markdown",
   "id": "6cdcf7ad",
   "metadata": {},
   "source": [
    "The time required to reach 95% of the temperature at $T_3(\\infty)$ can be formulate as:"
   ]
  },
  {
   "cell_type": "code",
   "execution_count": 102,
   "id": "1b1d2f33",
   "metadata": {},
   "outputs": [
    {
     "data": {
      "image/png": "[encoded data removed]",
      "text/latex": [
       "$\\displaystyle 25 + 9.375 e^{- \\frac{t}{20}} = 26.3157894736842$"
      ],
      "text/plain": [
       "            -t                    \n",
       "            ───                   \n",
       "             20                   \n",
       "25 + 9.375⋅ℯ    = 26.3157894736842"
      ]
     },
     "execution_count": 102,
     "metadata": {},
     "output_type": "execute_result"
    }
   ],
   "source": [
    "sst=sp.Eq(sol.rhs,25/.95)\n",
    "sst"
   ]
  },
  {
   "cell_type": "markdown",
   "id": "8148ad73",
   "metadata": {},
   "source": [
    "solving for t using sympy package will result in :"
   ]
  },
  {
   "cell_type": "code",
   "execution_count": 104,
   "id": "1c8876c8",
   "metadata": {},
   "outputs": [
    {
     "name": "stdout",
     "output_type": "stream",
     "text": [
      "The time required to reach 95% of the steady state temperature is 39.272 min\n"
     ]
    }
   ],
   "source": [
    "t=sp.symbols(\"t\")\n",
    "print(f\"The time required to reach 95% of the steady state temperature is {sp.solve(sst,t)[0]:.3f} min\")"
   ]
  },
  {
   "cell_type": "code",
   "execution_count": null,
   "id": "9b0e134a",
   "metadata": {},
   "outputs": [],
   "source": []
  }
 ],
 "metadata": {
  "kernelspec": {
   "display_name": "Python 3 (ipykernel)",
   "language": "python",
   "name": "python3"
  },
  "language_info": {
   "codemirror_mode": {
    "name": "ipython",
    "version": 3
   },
   "file_extension": ".py",
   "mimetype": "text/x-python",
   "name": "python",
   "nbconvert_exporter": "python",
   "pygments_lexer": "ipython3",
   "version": "3.8.10"
  }
 },
 "nbformat": 4,
 "nbformat_minor": 5
}
