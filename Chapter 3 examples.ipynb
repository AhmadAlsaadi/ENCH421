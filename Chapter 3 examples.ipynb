{
 "cells": [
  {
   "cell_type": "markdown",
   "id": "9048c625",
   "metadata": {},
   "source": [
    "**Example 3.7**   \n",
    "Find the Laplace transform of $$f(t)=sin(2t)$$ using the\n",
    "laplace"
   ]
  },
  {
   "cell_type": "code",
   "execution_count": 5,
   "id": "11720acc",
   "metadata": {},
   "outputs": [
    {
     "data": {
      "image/png": "[encoded data removed]",
      "text/latex": [
       "$\\displaystyle \\sin{\\left(2 t \\right)}$"
      ],
      "text/plain": [
       "sin(2⋅t)"
      ]
     },
     "execution_count": 5,
     "metadata": {},
     "output_type": "execute_result"
    }
   ],
   "source": [
    "# import python library that do sybolic math called \"sympy\"\n",
    "import sympy as sp\n",
    "\n",
    "# define the symbol that we are planning to use in the math problems\n",
    "s, t = sp.symbols(\"s t\")\n",
    "\n",
    "# make the printing looks nicer on screen\n",
    "sp.init_printing()\n",
    "\n",
    "# define the expression that we are going to use\n",
    "expr1 = sp.sin(2*t)\n",
    "expr1"
   ]
  },
  {
   "cell_type": "code",
   "execution_count": 6,
   "id": "35c5783c",
   "metadata": {},
   "outputs": [
    {
     "data": {
      "image/png": "[encoded data removed]",
      "text/latex": [
       "$\\displaystyle \\frac{2}{s^{2} + 4}$"
      ],
      "text/plain": [
       "  2   \n",
       "──────\n",
       " 2    \n",
       "s  + 4"
      ]
     },
     "execution_count": 6,
     "metadata": {},
     "output_type": "execute_result"
    }
   ],
   "source": [
    "# use laplace_transform function to transfor the exapression above\n",
    "lp_expr1 = sp.laplace_transform(expr1,t,s)\n",
    "lp_expr1[0]"
   ]
  },
  {
   "cell_type": "code",
   "execution_count": null,
   "id": "64f0e551",
   "metadata": {},
   "outputs": [],
   "source": [
    "# compare the result with one in the textbook and Laplace transform table."
   ]
  },
  {
   "cell_type": "markdown",
   "id": "9d30aacb",
   "metadata": {},
   "source": [
    "**Exercise 3.8**   \n",
    "find the inverse Laplace transform of\n",
    "$$Y(s) = \\frac{s+1}{(s+a)(s+b)}$$\n",
    "\n",
    "where a and b are unspecified numerical constants"
   ]
  },
  {
   "cell_type": "code",
   "execution_count": 12,
   "id": "f2ad44d6",
   "metadata": {},
   "outputs": [
    {
     "data": {
      "image/png": "[encoded data removed]",
      "text/latex": [
       "$\\displaystyle \\frac{s + 1}{\\left(a + s\\right) \\left(b + s\\right)}$"
      ],
      "text/plain": [
       "     s + 1     \n",
       "───────────────\n",
       "(a + s)⋅(b + s)"
      ]
     },
     "execution_count": 12,
     "metadata": {},
     "output_type": "execute_result"
    }
   ],
   "source": [
    "# import python library that do sybolic math called \"sympy\"\n",
    "import sympy as sp\n",
    "\n",
    "# define the symbol that we are planning to use in the math problems\n",
    "s, t = sp.symbols(\"s t\")\n",
    "\n",
    "# define a and b as postive constants\n",
    "a=sp.Symbol('a',positive=True)\n",
    "b=sp.Symbol('b',positive=True)\n",
    "\n",
    "# define the expression that we are going to use\n",
    "expr2 = (s+1)/((s+a)*(s+b))\n",
    "expr2"
   ]
  },
  {
   "cell_type": "code",
   "execution_count": 15,
   "id": "06401574",
   "metadata": {},
   "outputs": [
    {
     "data": {
      "image/png": "[encoded data removed]",
      "text/latex": [
       "$\\displaystyle \\frac{\\left(\\left(a - 1\\right) e^{b t} - \\left(b - 1\\right) e^{a t}\\right) e^{- t \\left(a + b\\right)} \\theta\\left(t\\right)}{a - b}$"
      ],
      "text/plain": [
       "⎛         b⋅t            a⋅t⎞  -t⋅(a + b)     \n",
       "⎝(a - 1)⋅ℯ    - (b - 1)⋅ℯ   ⎠⋅ℯ          ⋅θ(t)\n",
       "──────────────────────────────────────────────\n",
       "                    a - b                     "
      ]
     },
     "execution_count": 15,
     "metadata": {},
     "output_type": "execute_result"
    }
   ],
   "source": [
    "# use inverse_laplace_transform function to transfor the exapression above\n",
    "in_expr2 = sp.inverse_laplace_transform(expr2,s,t)\n",
    "in_expr2"
   ]
  },
  {
   "cell_type": "markdown",
   "id": "e61ee677",
   "metadata": {},
   "source": [
    "**Exercise 3.9**   \n",
    "find the inverse Laplace transform of\n",
    "$$Y(s) = \\frac{s+2}{s^2+s+1}$$\n"
   ]
  },
  {
   "cell_type": "code",
   "execution_count": 18,
   "id": "76ca5247",
   "metadata": {},
   "outputs": [
    {
     "data": {
      "image/png": "[encoded data removed]",
      "text/latex": [
       "$\\displaystyle \\frac{s + 2}{s^{2} + s + 1}$"
      ],
      "text/plain": [
       "  s + 2   \n",
       "──────────\n",
       " 2        \n",
       "s  + s + 1"
      ]
     },
     "execution_count": 18,
     "metadata": {},
     "output_type": "execute_result"
    }
   ],
   "source": [
    "# import python library that do sybolic math called \"sympy\"\n",
    "import sympy as sp\n",
    "\n",
    "# define the symbol that we are planning to use in the math problems\n",
    "s, t = sp.symbols(\"s t\")\n",
    "\n",
    "# define the expression that we are going to use\n",
    "expr3 = (s+2)/(s**2+s+1)\n",
    "expr3"
   ]
  },
  {
   "cell_type": "code",
   "execution_count": 19,
   "id": "c3b976a6",
   "metadata": {},
   "outputs": [
    {
     "data": {
      "image/png": "[encoded data removed]",
      "text/latex": [
       "$\\displaystyle \\left(\\sqrt{3} \\sin{\\left(\\frac{\\sqrt{3} t}{2} \\right)} + \\cos{\\left(\\frac{\\sqrt{3} t}{2} \\right)}\\right) e^{- \\frac{t}{2}} \\theta\\left(t\\right)$"
      ],
      "text/plain": [
       "                            -t      \n",
       "                            ───     \n",
       "⎛      ⎛√3⋅t⎞      ⎛√3⋅t⎞⎞   2      \n",
       "⎜√3⋅sin⎜────⎟ + cos⎜────⎟⎟⋅ℯ   ⋅θ(t)\n",
       "⎝      ⎝ 2  ⎠      ⎝ 2  ⎠⎠          "
      ]
     },
     "execution_count": 19,
     "metadata": {},
     "output_type": "execute_result"
    }
   ],
   "source": [
    "# use inverse_laplace_transform function to transfor the exapression above\n",
    "in_expr3 = sp.inverse_laplace_transform(expr3,s,t)\n",
    "in_expr3"
   ]
  },
  {
   "cell_type": "markdown",
   "id": "03b5a13e",
   "metadata": {},
   "source": [
    "**Exercise 3.10**   \n",
    "find the inverse Laplace transform of\n",
    "$$Y(s) = \\frac{s+1}{s^2+4s+4}= \\frac{s+1}{(s+2)^2}$$\n"
   ]
  },
  {
   "cell_type": "code",
   "execution_count": 24,
   "id": "4959d6fe",
   "metadata": {},
   "outputs": [
    {
     "data": {
      "image/png": "[encoded data removed]",
      "text/latex": [
       "$\\displaystyle \\frac{s + 1}{s^{2} + 4 s + 4}$"
      ],
      "text/plain": [
       "   s + 1    \n",
       "────────────\n",
       " 2          \n",
       "s  + 4⋅s + 4"
      ]
     },
     "execution_count": 24,
     "metadata": {},
     "output_type": "execute_result"
    }
   ],
   "source": [
    "# import python library that do sybolic math called \"sympy\"\n",
    "import sympy as sp\n",
    "\n",
    "# define the symbol that we are planning to use in the math problems\n",
    "s, t = sp.symbols(\"s t\")\n",
    "\n",
    "# define the expression that we are going to use\n",
    "expr4 = (s+1)/(s**2+4*s+4)\n",
    "expr4"
   ]
  },
  {
   "cell_type": "code",
   "execution_count": 25,
   "id": "5fc218f2",
   "metadata": {},
   "outputs": [
    {
     "data": {
      "image/png": "[encoded data removed]",
      "text/latex": [
       "$\\displaystyle \\frac{s + 1}{\\left(s + 2\\right)^{2}}$"
      ],
      "text/plain": [
       " s + 1  \n",
       "────────\n",
       "       2\n",
       "(s + 2) "
      ]
     },
     "execution_count": 25,
     "metadata": {},
     "output_type": "execute_result"
    }
   ],
   "source": [
    "expr4.factor()"
   ]
  },
  {
   "cell_type": "code",
   "execution_count": 26,
   "id": "d049accf",
   "metadata": {},
   "outputs": [
    {
     "data": {
      "image/png": "[encoded data removed]",
      "text/latex": [
       "$\\displaystyle \\left(1 - t\\right) e^{- 2 t} \\theta\\left(t\\right)$"
      ],
      "text/plain": [
       "         -2⋅t     \n",
       "(1 - t)⋅ℯ    ⋅θ(t)"
      ]
     },
     "execution_count": 26,
     "metadata": {},
     "output_type": "execute_result"
    }
   ],
   "source": [
    "# use inverse_laplace_transform function to transfor the exapression above\n",
    "in_expr4 = sp.inverse_laplace_transform(expr4,s,t)\n",
    "in_expr4"
   ]
  },
  {
   "cell_type": "code",
   "execution_count": null,
   "id": "cf04ca0e",
   "metadata": {},
   "outputs": [],
   "source": []
  }
 ],
 "metadata": {
  "kernelspec": {
   "display_name": "Python 3 (ipykernel)",
   "language": "python",
   "name": "python3"
  },
  "language_info": {
   "codemirror_mode": {
    "name": "ipython",
    "version": 3
   },
   "file_extension": ".py",
   "mimetype": "text/x-python",
   "name": "python",
   "nbconvert_exporter": "python",
   "pygments_lexer": "ipython3",
   "version": "3.11.0"
  }
 },
 "nbformat": 4,
 "nbformat_minor": 5
}
