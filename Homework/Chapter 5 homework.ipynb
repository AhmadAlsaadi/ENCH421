{
 "cells": [
  {
   "cell_type": "markdown",
   "id": "7cdef0b1",
   "metadata": {},
   "source": [
    "### Problem No. 1"
   ]
  },
  {
   "cell_type": "markdown",
   "id": "bea3f69c",
   "metadata": {},
   "source": [
    "Consider the fourth-order plus time delay system represented below:\n",
    "\n",
    "$$G(s) = \\frac{K}{(τ_1s + 1)(τ_2s + 1)(τ_3s + 1)(τ_4s + 1)}e^{−θs}$$\n",
    "\n",
    "Assume that a step change is applied in the system input U(s). Will the time required for the output Y(s) to reach steady state depend on the magnitude of the step input in U? Explain."
   ]
  },
  {
   "cell_type": "markdown",
   "id": "0cc876c3",
   "metadata": {},
   "source": [
    "### Problem No. 2"
   ]
  },
  {
   "cell_type": "markdown",
   "id": "0c7b8667",
   "metadata": {},
   "source": [
    "A heater for a semiconductor wafer has first-order dynamics, that is, the transfer function relating changes in\n",
    "temperature T to changes in the heater input power level P is\n",
    "\n",
    "$$\\frac{T′(s)}{P′(s)} = \\frac{K}{τs + 1}$$\n",
    "\n",
    "where K has units [∘C/Kw] and τ has units [min].   \n",
    "The process is at steady state when an engineer changes the power input stepwise from 1 to 2 kW. She notes the following:   \n",
    "\n",
    "(i) The process temperature initially is 100 ∘C.   \n",
    "(ii) Four minutes after changing the power input, the temperature is 400 ∘C.   \n",
    "(iii) Thirty minutes later the temperature is 500 ∘C.   \n",
    "\n",
    "(a) What are K and τ in the process transfer function?   \n",
    "\n",
    "(b) If at another time the engineer changes the power input linearly at a rate of 0.5 kW/min, what can you say about the\n",
    "maximum rate of change of process temperature: When will it occur? How large will it be?"
   ]
  },
  {
   "cell_type": "markdown",
   "id": "4c65422a",
   "metadata": {},
   "source": [
    "### Problem No.3"
   ]
  },
  {
   "cell_type": "markdown",
   "id": "71e3daeb",
   "metadata": {},
   "source": [
    "A composition sensor is used to continually monitor the contaminant level in a liquid stream. The dynamic behavior of\n",
    "the sensor can be described by a first-order transfer function with a time constant of 10 s,\n",
    "\n",
    "$$\\frac{C′m(s)}{C′(s)} = \\frac{1}{10s + 1}$$\n",
    "\n",
    "where C′ is the actual contaminant concentration and C′ m is the measured value. Both are expressed as deviation variables\n",
    "(e.g., C′ = C − C). The nominal concentration is C = 5 ppm. Both C and Cm have values of 5 ppm initially (i.e., the values\n",
    "at t = 0). An alarm sounds if the measured value exceeds the environmental limit of 7 ppm. Suppose that the contaminant\n",
    "concentration C gradually increases according to the expression C(t) = 5 + 0.2t, where t is expressed in seconds. After\n",
    "the actual contaminant concentration exceeds the environmental limit, what is the time interval, Δt, until the alarm\n",
    "sounds?"
   ]
  },
  {
   "cell_type": "markdown",
   "id": "6e681fb8",
   "metadata": {},
   "source": [
    "### Problem No. 4"
   ]
  },
  {
   "cell_type": "markdown",
   "id": "3dfe555d",
   "metadata": {},
   "source": [
    "The dynamic response of a stirred-tank bioreactor can be represented by the transfer function\n",
    "\n",
    "$$\\frac{C′(s)}{C′_F(s)} = \\frac{4}{2s + 1}$$\n",
    "\n",
    "where C′ is the exit substrate concentration, mol/L, and $C′_F$ is the feed substrate concentration, mol/L.   \n",
    "\n",
    "(a) Derive an expression for c′(t) if $c_F(t)$ is a rectangular pulse with the following characteristics:\n",
    "\n",
    "$$c_F(t) =\\left \\{\n",
    "\\begin{array}{lr}\n",
    "2 \\quad t < 0\\\\\n",
    "4 \\quad 0 ≤ t < 2\\\\\n",
    "2 \\quad 2 ≤ t < ∞ \n",
    "\\end{array}\n",
    "\\right \\}$$\n",
    "\n",
    "(b) What is the maximum value of c′(t)? When does it occur? What is the final value of c′(t)?   \n",
    "\n",
    "(c) If the initial value is c(0) = 1, how long does it take for c(t) to return to a value of 1.05 after it has reached its maximum value?"
   ]
  },
  {
   "cell_type": "code",
   "execution_count": null,
   "id": "d6e2f890",
   "metadata": {},
   "outputs": [],
   "source": []
  }
 ],
 "metadata": {
  "kernelspec": {
   "display_name": "Python 3 (ipykernel)",
   "language": "python",
   "name": "python3"
  },
  "language_info": {
   "codemirror_mode": {
    "name": "ipython",
    "version": 3
   },
   "file_extension": ".py",
   "mimetype": "text/x-python",
   "name": "python",
   "nbconvert_exporter": "python",
   "pygments_lexer": "ipython3",
   "version": "3.8.10"
  }
 },
 "nbformat": 4,
 "nbformat_minor": 5
}
