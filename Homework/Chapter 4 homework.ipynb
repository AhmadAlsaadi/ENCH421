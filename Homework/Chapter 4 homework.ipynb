{
 "cells": [
  {
   "cell_type": "markdown",
   "id": "37d46c92",
   "metadata": {},
   "source": [
    "### problem No. 1"
   ]
  },
  {
   "cell_type": "markdown",
   "id": "10dc6a66",
   "metadata": {},
   "source": [
    "Consider a transfer function:\n",
    "\n",
    "$$\\frac{Y(s)}{U(s)} = \\frac{d}{bs + c}$$\n",
    "\n",
    "(a) What is the steady-state gain?   \n",
    "\n",
    "(b) For a step change of magnitude M in the input, will theoutput response be bounded for all values of constants b, c and\n",
    "d? Briefly justify your answer."
   ]
  },
  {
   "cell_type": "markdown",
   "id": "793e8b1d",
   "metadata": {},
   "source": [
    "### Problem No. 2"
   ]
  },
  {
   "cell_type": "markdown",
   "id": "eb1ff38d",
   "metadata": {},
   "source": [
    "Consider the following transfer function:\n",
    "\n",
    "$$G(s) = \\frac{Y(s)}{U(s)} = \\frac{3e^{−s}}{10s + 1}$$\n",
    "\n",
    "(a) What is the steady-state gain?   \n",
    "\n",
    "(b) What is the time constant?   \n",
    "\n",
    "(c) If U(s) = 4/s, what is the value of the output y(t) when t → ∞?   \n",
    "\n",
    "(d) For the same input, what is the value of the output when t = 10? What is the output when expressed as a fraction of the\n",
    "new steady-state value?   \n",
    "\n",
    "(e) If $U(s) = \\large \\frac{(1 − e^{−s})}{s}$, the unit rectangular pulse, what is the output when t → ∞?   \n",
    "\n",
    "(f) If u(t) = δ(t), the unit impulse at t = 0, what is the output when t → ∞?   \n",
    "\n",
    "(g) If u(t) = 5 sin 2t, what is the value of the output when t → ∞?"
   ]
  },
  {
   "cell_type": "markdown",
   "id": "f4f59e15",
   "metadata": {},
   "source": [
    "### Problem No.3"
   ]
  },
  {
   "cell_type": "markdown",
   "id": "8d034bd7",
   "metadata": {},
   "source": [
    "The dynamic behavior of a pressure sensor/transmitter can be expressed as a first-order transfer function (in deviation\n",
    "variables) that relates the measured value Pm to the actual pressure, P':\n",
    "\n",
    "$$\\frac{P′m(s)}{P′(s)} = \\frac{1}{30s + 1}$$\n",
    "\n",
    "Both Pm and P' have units of psi and the time constant has units of seconds. Suppose that an alarm will sound if Pm exceeds 45 psi. If the process is initially at steady state (Pm = P' = 35 psi), and then P' suddenly changes from 35 to 50 psi at 1:30 PM, at what time will the alarm sound?"
   ]
  },
  {
   "cell_type": "code",
   "execution_count": null,
   "id": "7003b53f",
   "metadata": {},
   "outputs": [],
   "source": []
  }
 ],
 "metadata": {
  "kernelspec": {
   "display_name": "Python 3 (ipykernel)",
   "language": "python",
   "name": "python3"
  },
  "language_info": {
   "codemirror_mode": {
    "name": "ipython",
    "version": 3
   },
   "file_extension": ".py",
   "mimetype": "text/x-python",
   "name": "python",
   "nbconvert_exporter": "python",
   "pygments_lexer": "ipython3",
   "version": "3.8.10"
  }
 },
 "nbformat": 4,
 "nbformat_minor": 5
}
