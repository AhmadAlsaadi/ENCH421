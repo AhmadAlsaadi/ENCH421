{
 "cells": [
  {
   "cell_type": "markdown",
   "id": "d6c314fd",
   "metadata": {},
   "source": [
    "### Problem No. 1\n",
    "Find the Laplace transforms of the following functions:\n",
    "1. $f(t)=5+e^{-3t}+te^{-4t}$   \n",
    "\n",
    "\n",
    "2. $f(t)=sin(4t)+t-3+e^{t-3}+\\frac{5}{t}$\n",
    "\n",
    "\n",
    "3. $f(t)=tcos(4t)+\\frac{t}{5}$\n",
    "\n",
    "\n",
    "4. $f(t)=(t-1)cos(4(t-1))+t^2$"
   ]
  },
  {
   "attachments": {
    "image.png": {
     "image/png": "[encoded data removed]"
    }
   },
   "cell_type": "markdown",
   "id": "9a85f0f9",
   "metadata": {},
   "source": [
    "### Problem No. 2\n",
    "Derive Laplace transforms of the input signals shown below\n",
    "![image.png](attachment:image.png)"
   ]
  },
  {
   "cell_type": "markdown",
   "id": "1a0b27f0",
   "metadata": {},
   "source": [
    "### Problem No. 3\n",
    "find x(t) for:\n",
    "1. $X(s)=\\large{\\frac{s(s+1)}{(s+2)(s+3)(s+4)}}$\n",
    "\n",
    "\n",
    "2. $X(s)=\\large{\\frac{(s+2)}{(s+1)^2}}$\n",
    "\n",
    "\n",
    "3. $X(s)=\\large{\\frac{1}{s^2+s+1}}$\n",
    "\n",
    "\n",
    "4. $X(s)=\\large{\\frac{s+1}{s(s+4)(s+3)}e^{-0.5t}}$"
   ]
  },
  {
   "cell_type": "markdown",
   "id": "fbd1f1d5",
   "metadata": {},
   "source": [
    "### Problem No. 4\n",
    "For the integro-differential equation,\n",
    "$$\\frac{d^2x}{dt}+4\\frac{dx}{dt}+3x=2\\int^t_0{e^{-t}}dt\\\\\n",
    "\\text{with}\\quad \\frac{dx}{dt}(0)=x(0)=0$$\n",
    "1. find x(t)?\n",
    "\n",
    "\n",
    "2. What is the limiting value of t as t $\\to \\infty$?"
   ]
  }
 ],
 "metadata": {
  "kernelspec": {
   "display_name": "Python 3 (ipykernel)",
   "language": "python",
   "name": "python3"
  },
  "language_info": {
   "codemirror_mode": {
    "name": "ipython",
    "version": 3
   },
   "file_extension": ".py",
   "mimetype": "text/x-python",
   "name": "python",
   "nbconvert_exporter": "python",
   "pygments_lexer": "ipython3",
   "version": "3.8.10"
  }
 },
 "nbformat": 4,
 "nbformat_minor": 5
}
