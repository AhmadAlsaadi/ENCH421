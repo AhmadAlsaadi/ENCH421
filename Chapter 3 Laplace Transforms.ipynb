{
 "cells": [
  {
   "cell_type": "code",
   "execution_count": 35,
   "id": "c0dc65c1",
   "metadata": {},
   "outputs": [],
   "source": [
    "import sympy as sym\n",
    "from sympy.abc import s,t,x,y,z,a,b\n",
    "from sympy.integrals import laplace_transform\n",
    "from sympy.integrals import inverse_laplace_transform\n"
   ]
  },
  {
   "cell_type": "code",
   "execution_count": 19,
   "id": "e3f22653",
   "metadata": {},
   "outputs": [
    {
     "name": "stdout",
     "output_type": "stream",
     "text": [
      "U\n",
      "5/s**2\n"
     ]
    }
   ],
   "source": [
    "# Example\n",
    "# Laplace transform (t->s)\n",
    "U = laplace_transform(5*t, t, s)\n",
    "print('U')\n",
    "print(U[0])\n",
    "# Result: 5/s**2"
   ]
  },
  {
   "cell_type": "code",
   "execution_count": 36,
   "id": "56f476b5",
   "metadata": {},
   "outputs": [
    {
     "name": "stdout",
     "output_type": "stream",
     "text": [
      "U\n",
      "(a*exp(b*t) - b*exp(a*t) + exp(a*t) - exp(b*t))*exp(-t*(a + b))*Heaviside(t)/(a - b)\n"
     ]
    }
   ],
   "source": [
    "# 3.8  inverse Laplace transform (s->t)\n",
    "#a=sym.Symbol('a',positive=True)\n",
    "#b=sym.Symbol('b',positive=True)\n",
    "U = inverse_laplace_transform((s+1)/((s+a)*(s+b)), s, t)\n",
    "print('U')\n",
    "print(U)\n"
   ]
  },
  {
   "cell_type": "code",
   "execution_count": 34,
   "id": "7f7048fd",
   "metadata": {},
   "outputs": [
    {
     "name": "stdout",
     "output_type": "stream",
     "text": [
      "U\n",
      "(sqrt(3)*sin(sqrt(3)*t/2) + cos(sqrt(3)*t/2))*exp(-t/2)*Heaviside(t)\n"
     ]
    }
   ],
   "source": [
    "# 3.9  inverse Laplace transform (s->t)\n",
    "a=sym.Symbol('a',positive=True)\n",
    "b=sym.Symbol('b',positive=True)\n",
    "U = inverse_laplace_transform((s+2)/((s**2+s+1)), s, t)\n",
    "print('U')\n",
    "print(U)"
   ]
  },
  {
   "cell_type": "code",
   "execution_count": null,
   "id": "bd027bd0",
   "metadata": {},
   "outputs": [],
   "source": [
    "# Inverse Laplace transform (s->t)\n",
    "X = inverse_laplace_transform(U[0],s,t)\n",
    "print('X')\n",
    "print(X)\n",
    "# Result: 5*t*Heaviside(t)"
   ]
  },
  {
   "cell_type": "code",
   "execution_count": 10,
   "id": "ca3c8a25",
   "metadata": {},
   "outputs": [
    {
     "name": "stdout",
     "output_type": "stream",
     "text": [
      "F\n",
      "(5*s + 5)/(s + 3)**2\n"
     ]
    }
   ],
   "source": [
    "# Function\n",
    "F = 5*(s+1)/(s+3)**2\n",
    "print('F')\n",
    "print(F)\n",
    "# Result: (5*s + 5)/(s + 3)**2"
   ]
  },
  {
   "cell_type": "code",
   "execution_count": 11,
   "id": "748dd294",
   "metadata": {},
   "outputs": [
    {
     "name": "stdout",
     "output_type": "stream",
     "text": [
      "G\n",
      "5/(s + 3) - 10/(s + 3)**2\n"
     ]
    }
   ],
   "source": [
    "# Partial fraction decomposition\n",
    "G = sym.apart(F)\n",
    "print('G')\n",
    "print(G)\n",
    "# Result: 5/(s + 3) - 10/(s + 3)**2"
   ]
  },
  {
   "cell_type": "code",
   "execution_count": 12,
   "id": "4c56ca58",
   "metadata": {},
   "outputs": [
    {
     "name": "stdout",
     "output_type": "stream",
     "text": [
      "d2\n",
      "s**4 + 7*s**3 + 16*s**2 + 13*s + 3\n"
     ]
    }
   ],
   "source": [
    "# denominator of transfer function\n",
    "d1 = (s+1)*(s+3)*(s**2+3*s+1)\n",
    "\n",
    "# expand polynomial\n",
    "d2 = sym.expand(d1)\n",
    "print('d2')\n",
    "print(d2)\n",
    "# Result: s**4 + 7*s**3 + 16*s**2 + 13*s + 3"
   ]
  },
  {
   "cell_type": "code",
   "execution_count": 13,
   "id": "6a0ee76c",
   "metadata": {},
   "outputs": [
    {
     "name": "stdout",
     "output_type": "stream",
     "text": [
      "{-1: 1, -3: 1, -3/2 - sqrt(5)/2: 1, -3/2 + sqrt(5)/2: 1}\n"
     ]
    }
   ],
   "source": [
    "# find roots\n",
    "print(sym.roots(d2))\n",
    "# Result: {-1: 1, -3: 1, -3/2 - sqrt(5)/2: 1, -3/2 + sqrt(5)/2: 1}"
   ]
  },
  {
   "cell_type": "code",
   "execution_count": null,
   "id": "aac66c63",
   "metadata": {},
   "outputs": [],
   "source": []
  }
 ],
 "metadata": {
  "kernelspec": {
   "display_name": "Python 3 (ipykernel)",
   "language": "python",
   "name": "python3"
  },
  "language_info": {
   "codemirror_mode": {
    "name": "ipython",
    "version": 3
   },
   "file_extension": ".py",
   "mimetype": "text/x-python",
   "name": "python",
   "nbconvert_exporter": "python",
   "pygments_lexer": "ipython3",
   "version": "3.9.7"
  }
 },
 "nbformat": 4,
 "nbformat_minor": 5
}
