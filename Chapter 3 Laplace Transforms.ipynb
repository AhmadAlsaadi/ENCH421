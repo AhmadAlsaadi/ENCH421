{
 "cells": [
  {
   "cell_type": "code",
   "execution_count": 1,
   "id": "c0dc65c1",
   "metadata": {},
   "outputs": [],
   "source": [
    "import sympy as sp\n",
    "from sympy.abc import s,t,x,y,z,a,b\n",
    "from sympy.integrals import laplace_transform\n",
    "from sympy.integrals import inverse_laplace_transform"
   ]
  },
  {
   "cell_type": "code",
   "execution_count": 6,
   "id": "e3f22653",
   "metadata": {},
   "outputs": [
    {
     "data": {
      "image/png": "[encoded data removed]",
      "text/latex": [
       "$\\displaystyle \\frac{5}{s^{2}}$"
      ],
      "text/plain": [
       "5 \n",
       "──\n",
       " 2\n",
       "s "
      ]
     },
     "execution_count": 6,
     "metadata": {},
     "output_type": "execute_result"
    }
   ],
   "source": [
    "# Example\n",
    "sp.init_printing()\n",
    "# Laplace transform (t->s)\n",
    "U = laplace_transform(5*t, t, s)\n",
    "U[0] # Result: 5/s**2"
   ]
  },
  {
   "cell_type": "code",
   "execution_count": 17,
   "id": "56f476b5",
   "metadata": {},
   "outputs": [
    {
     "data": {
      "image/png": "[encoded data removed]",
      "text/latex": [
       "$\\displaystyle \\frac{\\left(\\left(a - 1\\right) e^{b t} - \\left(b - 1\\right) e^{a t}\\right) e^{- t \\left(a + b\\right)} \\theta\\left(t\\right)}{a - b}$"
      ],
      "text/plain": [
       "⎛         b⋅t            a⋅t⎞  -t⋅(a + b)     \n",
       "⎝(a - 1)⋅ℯ    - (b - 1)⋅ℯ   ⎠⋅ℯ          ⋅θ(t)\n",
       "──────────────────────────────────────────────\n",
       "                    a - b                     "
      ]
     },
     "execution_count": 17,
     "metadata": {},
     "output_type": "execute_result"
    }
   ],
   "source": [
    "# 3.8  inverse Laplace transform (s->t)\n",
    "a=sp.Symbol('a',positive=True)\n",
    "b=sp.Symbol('b',positive=True)\n",
    "U = inverse_laplace_transform((s+1)/((s+a)*(s+b)), s, t)\n",
    "U"
   ]
  },
  {
   "cell_type": "code",
   "execution_count": 12,
   "id": "7f7048fd",
   "metadata": {},
   "outputs": [
    {
     "data": {
      "image/png": "[encoded data removed]",
      "text/latex": [
       "$\\displaystyle \\left(\\sqrt{3} \\sin{\\left(\\frac{\\sqrt{3} t}{2} \\right)} + \\cos{\\left(\\frac{\\sqrt{3} t}{2} \\right)}\\right) e^{- \\frac{t}{2}} \\theta\\left(t\\right)$"
      ],
      "text/plain": [
       "                            -t      \n",
       "                            ───     \n",
       "⎛      ⎛√3⋅t⎞      ⎛√3⋅t⎞⎞   2      \n",
       "⎜√3⋅sin⎜────⎟ + cos⎜────⎟⎟⋅ℯ   ⋅θ(t)\n",
       "⎝      ⎝ 2  ⎠      ⎝ 2  ⎠⎠          "
      ]
     },
     "execution_count": 12,
     "metadata": {},
     "output_type": "execute_result"
    }
   ],
   "source": [
    "# 3.9  inverse Laplace transform (s->t)\n",
    "a=sp.Symbol('a',positive=True)\n",
    "b=sp.Symbol('b',positive=True)\n",
    "U = inverse_laplace_transform((s+2)/((s**2+s+1)), s, t)\n",
    "U"
   ]
  },
  {
   "cell_type": "code",
   "execution_count": 14,
   "id": "bd027bd0",
   "metadata": {},
   "outputs": [
    {
     "data": {
      "image/png": "[encoded data removed]",
      "text/latex": [
       "$\\displaystyle 2 e^{- \\frac{\\operatorname{re}{\\left(t\\right)}}{2} - \\frac{i \\operatorname{im}{\\left(t\\right)}}{2}} \\sin{\\left(\\frac{\\sqrt{3} t}{2} + \\frac{\\pi}{6} \\right)} \\delta\\left(t\\right) \\theta\\left(\\operatorname{polar\\_lift}{\\left(\\tilde{\\infty} \\right)}\\right)$"
      ],
      "text/plain": [
       "     re(t)   ⅈ⋅im(t)                                      \n",
       "   - ───── - ───────                                      \n",
       "       2        2       ⎛√3⋅t   π⎞                        \n",
       "2⋅ℯ                 ⋅sin⎜──── + ─⎟⋅δ(t)⋅θ(polar_lift(zoo))\n",
       "                        ⎝ 2     6⎠                        "
      ]
     },
     "execution_count": 14,
     "metadata": {},
     "output_type": "execute_result"
    }
   ],
   "source": [
    "# Inverse Laplace transform (s->t)\n",
    "X = inverse_laplace_transform(U,s,t)\n",
    "X # Result: 5*t*Heaviside(t)"
   ]
  },
  {
   "cell_type": "code",
   "execution_count": 10,
   "id": "ca3c8a25",
   "metadata": {},
   "outputs": [
    {
     "name": "stdout",
     "output_type": "stream",
     "text": [
      "F\n",
      "(5*s + 5)/(s + 3)**2\n"
     ]
    }
   ],
   "source": [
    "# Function\n",
    "F = 5*(s+1)/(s+3)**2\n",
    "print('F')\n",
    "print(F)\n",
    "# Result: (5*s + 5)/(s + 3)**2"
   ]
  },
  {
   "cell_type": "code",
   "execution_count": 11,
   "id": "748dd294",
   "metadata": {},
   "outputs": [
    {
     "name": "stdout",
     "output_type": "stream",
     "text": [
      "G\n",
      "5/(s + 3) - 10/(s + 3)**2\n"
     ]
    }
   ],
   "source": [
    "# Partial fraction decomposition\n",
    "G = sp.apart(F)\n",
    "print('G')\n",
    "print(G)\n",
    "# Result: 5/(s + 3) - 10/(s + 3)**2"
   ]
  },
  {
   "cell_type": "code",
   "execution_count": 12,
   "id": "4c56ca58",
   "metadata": {},
   "outputs": [
    {
     "name": "stdout",
     "output_type": "stream",
     "text": [
      "d2\n",
      "s**4 + 7*s**3 + 16*s**2 + 13*s + 3\n"
     ]
    }
   ],
   "source": [
    "# denominator of transfer function\n",
    "d1 = (s+1)*(s+3)*(s**2+3*s+1)\n",
    "\n",
    "# expand polynomial\n",
    "d2 = sp.expand(d1)\n",
    "print('d2')\n",
    "print(d2)\n",
    "# Result: s**4 + 7*s**3 + 16*s**2 + 13*s + 3"
   ]
  },
  {
   "cell_type": "code",
   "execution_count": 13,
   "id": "6a0ee76c",
   "metadata": {},
   "outputs": [
    {
     "name": "stdout",
     "output_type": "stream",
     "text": [
      "{-1: 1, -3: 1, -3/2 - sqrt(5)/2: 1, -3/2 + sqrt(5)/2: 1}\n"
     ]
    }
   ],
   "source": [
    "# find roots\n",
    "print(sp.roots(d2))\n",
    "# Result: {-1: 1, -3: 1, -3/2 - sqrt(5)/2: 1, -3/2 + sqrt(5)/2: 1}"
   ]
  },
  {
   "cell_type": "code",
   "execution_count": 15,
   "id": "aac66c63",
   "metadata": {},
   "outputs": [
    {
     "data": {
      "image/png": "[encoded data removed]",
      "text/latex": [
       "$\\displaystyle \\left(\\sqrt{3} \\sin{\\left(\\frac{\\sqrt{3} t}{2} \\right)} + \\cos{\\left(\\frac{\\sqrt{3} t}{2} \\right)}\\right) e^{- \\frac{t}{2}} \\theta\\left(t\\right)$"
      ],
      "text/plain": [
       "                            -t      \n",
       "                            ───     \n",
       "⎛      ⎛√3⋅t⎞      ⎛√3⋅t⎞⎞   2      \n",
       "⎜√3⋅sin⎜────⎟ + cos⎜────⎟⎟⋅ℯ   ⋅θ(t)\n",
       "⎝      ⎝ 2  ⎠      ⎝ 2  ⎠⎠          "
      ]
     },
     "execution_count": 15,
     "metadata": {},
     "output_type": "execute_result"
    }
   ],
   "source": [
    "U = inverse_laplace_transform((s+2)/(s**2+s+1), s, t)\n",
    "U"
   ]
  },
  {
   "cell_type": "code",
   "execution_count": 33,
   "id": "23f3954b",
   "metadata": {},
   "outputs": [
    {
     "data": {
      "image/png": "[encoded data removed]",
      "text/latex": [
       "$\\displaystyle \\frac{1}{\\left(s - 1\\right)^{2} - 1}$"
      ],
      "text/plain": [
       "     1      \n",
       "────────────\n",
       "       2    \n",
       "(s - 1)  - 1"
      ]
     },
     "execution_count": 33,
     "metadata": {},
     "output_type": "execute_result"
    }
   ],
   "source": [
    "U = laplace_transform(sp.exp(t)*sp.sinh(t), t, s)\n",
    "U[0]"
   ]
  },
  {
   "cell_type": "code",
   "execution_count": null,
   "id": "6037fc59",
   "metadata": {},
   "outputs": [],
   "source": []
  }
 ],
 "metadata": {
  "kernelspec": {
   "display_name": "Python 3 (ipykernel)",
   "language": "python",
   "name": "python3"
  },
  "language_info": {
   "codemirror_mode": {
    "name": "ipython",
    "version": 3
   },
   "file_extension": ".py",
   "mimetype": "text/x-python",
   "name": "python",
   "nbconvert_exporter": "python",
   "pygments_lexer": "ipython3",
   "version": "3.8.10"
  }
 },
 "nbformat": 4,
 "nbformat_minor": 5
}
