{
 "cells": [
  {
   "cell_type": "code",
   "execution_count": 1,
   "id": "c0dc65c1",
   "metadata": {},
   "outputs": [],
   "source": [
    "import sympy as sp\n",
    "from sympy.abc import s,t,x,y,z,a,b\n",
    "from sympy.integrals import laplace_transform\n",
    "from sympy.integrals import inverse_laplace_transform"
   ]
  },
  {
   "cell_type": "code",
   "execution_count": 2,
   "id": "e3f22653",
   "metadata": {},
   "outputs": [
    {
     "data": {
      "image/png": "[encoded data removed]",
      "text/latex": [
       "$\\displaystyle \\frac{5}{s^{2}}$"
      ],
      "text/plain": [
       "5 \n",
       "──\n",
       " 2\n",
       "s "
      ]
     },
     "execution_count": 2,
     "metadata": {},
     "output_type": "execute_result"
    }
   ],
   "source": [
    "# Example\n",
    "sp.init_printing()\n",
    "# Laplace transform (t->s)\n",
    "U = laplace_transform(5*t, t, s)\n",
    "U[0] # Result: 5/s**2"
   ]
  },
  {
   "cell_type": "code",
   "execution_count": 9,
   "id": "aefdacac",
   "metadata": {},
   "outputs": [
    {
     "data": {
      "image/png": "[encoded data removed]",
      "text/latex": [
       "$\\displaystyle \\left(\\sqrt{3} \\sin{\\left(\\frac{\\sqrt{3} t}{2} \\right)} + \\cos{\\left(\\frac{\\sqrt{3} t}{2} \\right)}\\right) e^{- \\frac{t}{2}} \\theta\\left(t\\right)$"
      ],
      "text/plain": [
       "                            -t      \n",
       "                            ───     \n",
       "⎛      ⎛√3⋅t⎞      ⎛√3⋅t⎞⎞   2      \n",
       "⎜√3⋅sin⎜────⎟ + cos⎜────⎟⎟⋅ℯ   ⋅θ(t)\n",
       "⎝      ⎝ 2  ⎠      ⎝ 2  ⎠⎠          "
      ]
     },
     "execution_count": 9,
     "metadata": {},
     "output_type": "execute_result"
    }
   ],
   "source": [
    "U = inverse_laplace_transform((s+2)/(s**2+s+1), s, t)\n",
    "U"
   ]
  },
  {
   "cell_type": "code",
   "execution_count": 5,
   "id": "56f476b5",
   "metadata": {},
   "outputs": [
    {
     "data": {
      "image/png": "[encoded data removed]",
      "text/latex": [
       "$\\displaystyle \\frac{\\left(- 2 t + e^{2 t} - 1\\right) e^{- 2 t} \\theta\\left(t\\right)}{2}$"
      ],
      "text/plain": [
       "⎛        2⋅t    ⎞  -2⋅t     \n",
       "⎝-2⋅t + ℯ    - 1⎠⋅ℯ    ⋅θ(t)\n",
       "────────────────────────────\n",
       "             2              "
      ]
     },
     "execution_count": 5,
     "metadata": {},
     "output_type": "execute_result"
    }
   ],
   "source": [
    "# 3.8  inverse Laplace transform (s->t)\n",
    "a=sp.Symbol('a',positive=True)\n",
    "b=sp.Symbol('b',positive=True)\n",
    "U = inverse_laplace_transform(2/(s*(s**2+4*s+4)), s, t)\n",
    "U"
   ]
  },
  {
   "cell_type": "code",
   "execution_count": 12,
   "id": "7f7048fd",
   "metadata": {},
   "outputs": [
    {
     "data": {
      "image/png": "[encoded data removed]",
      "text/latex": [
       "$\\displaystyle \\left(\\sqrt{3} \\sin{\\left(\\frac{\\sqrt{3} t}{2} \\right)} + \\cos{\\left(\\frac{\\sqrt{3} t}{2} \\right)}\\right) e^{- \\frac{t}{2}} \\theta\\left(t\\right)$"
      ],
      "text/plain": [
       "                            -t      \n",
       "                            ───     \n",
       "⎛      ⎛√3⋅t⎞      ⎛√3⋅t⎞⎞   2      \n",
       "⎜√3⋅sin⎜────⎟ + cos⎜────⎟⎟⋅ℯ   ⋅θ(t)\n",
       "⎝      ⎝ 2  ⎠      ⎝ 2  ⎠⎠          "
      ]
     },
     "execution_count": 12,
     "metadata": {},
     "output_type": "execute_result"
    }
   ],
   "source": [
    "# 3.9  inverse Laplace transform (s->t)\n",
    "a=sp.Symbol('a',positive=True)\n",
    "b=sp.Symbol('b',positive=True)\n",
    "U = inverse_laplace_transform((s+2)/((s**2+s+1)), s, t)\n",
    "U"
   ]
  },
  {
   "cell_type": "code",
   "execution_count": 14,
   "id": "bd027bd0",
   "metadata": {},
   "outputs": [
    {
     "data": {
      "image/png": "[encoded data removed]",
      "text/latex": [
       "$\\displaystyle 2 e^{- \\frac{\\operatorname{re}{\\left(t\\right)}}{2} - \\frac{i \\operatorname{im}{\\left(t\\right)}}{2}} \\sin{\\left(\\frac{\\sqrt{3} t}{2} + \\frac{\\pi}{6} \\right)} \\delta\\left(t\\right) \\theta\\left(\\operatorname{polar\\_lift}{\\left(\\tilde{\\infty} \\right)}\\right)$"
      ],
      "text/plain": [
       "     re(t)   ⅈ⋅im(t)                                      \n",
       "   - ───── - ───────                                      \n",
       "       2        2       ⎛√3⋅t   π⎞                        \n",
       "2⋅ℯ                 ⋅sin⎜──── + ─⎟⋅δ(t)⋅θ(polar_lift(zoo))\n",
       "                        ⎝ 2     6⎠                        "
      ]
     },
     "execution_count": 14,
     "metadata": {},
     "output_type": "execute_result"
    }
   ],
   "source": [
    "# Inverse Laplace transform (s->t)\n",
    "X = inverse_laplace_transform(U,s,t)\n",
    "X # Result: 5*t*Heaviside(t)"
   ]
  },
  {
   "cell_type": "code",
   "execution_count": 10,
   "id": "ca3c8a25",
   "metadata": {},
   "outputs": [
    {
     "name": "stdout",
     "output_type": "stream",
     "text": [
      "F\n",
      "(5*s + 5)/(s + 3)**2\n"
     ]
    }
   ],
   "source": [
    "# Function\n",
    "F = 5*(s+1)/(s+3)**2\n",
    "print('F')\n",
    "print(F)\n",
    "# Result: (5*s + 5)/(s + 3)**2"
   ]
  },
  {
   "cell_type": "code",
   "execution_count": 11,
   "id": "748dd294",
   "metadata": {},
   "outputs": [
    {
     "name": "stdout",
     "output_type": "stream",
     "text": [
      "G\n",
      "5/(s + 3) - 10/(s + 3)**2\n"
     ]
    }
   ],
   "source": [
    "# Partial fraction decomposition\n",
    "G = sp.apart(F)\n",
    "print('G')\n",
    "print(G)\n",
    "# Result: 5/(s + 3) - 10/(s + 3)**2"
   ]
  },
  {
   "cell_type": "code",
   "execution_count": 12,
   "id": "4c56ca58",
   "metadata": {},
   "outputs": [
    {
     "name": "stdout",
     "output_type": "stream",
     "text": [
      "d2\n",
      "s**4 + 7*s**3 + 16*s**2 + 13*s + 3\n"
     ]
    }
   ],
   "source": [
    "# denominator of transfer function\n",
    "d1 = (s+1)*(s+3)*(s**2+3*s+1)\n",
    "\n",
    "# expand polynomial\n",
    "d2 = sp.expand(d1)\n",
    "print('d2')\n",
    "print(d2)\n",
    "# Result: s**4 + 7*s**3 + 16*s**2 + 13*s + 3"
   ]
  },
  {
   "cell_type": "code",
   "execution_count": 13,
   "id": "6a0ee76c",
   "metadata": {},
   "outputs": [
    {
     "name": "stdout",
     "output_type": "stream",
     "text": [
      "{-1: 1, -3: 1, -3/2 - sqrt(5)/2: 1, -3/2 + sqrt(5)/2: 1}\n"
     ]
    }
   ],
   "source": [
    "# find roots\n",
    "print(sp.roots(d2))\n",
    "# Result: {-1: 1, -3: 1, -3/2 - sqrt(5)/2: 1, -3/2 + sqrt(5)/2: 1}"
   ]
  },
  {
   "cell_type": "code",
   "execution_count": 15,
   "id": "aac66c63",
   "metadata": {},
   "outputs": [
    {
     "data": {
      "image/png": "[encoded data removed]",
      "text/latex": [
       "$\\displaystyle \\left(\\sqrt{3} \\sin{\\left(\\frac{\\sqrt{3} t}{2} \\right)} + \\cos{\\left(\\frac{\\sqrt{3} t}{2} \\right)}\\right) e^{- \\frac{t}{2}} \\theta\\left(t\\right)$"
      ],
      "text/plain": [
       "                            -t      \n",
       "                            ───     \n",
       "⎛      ⎛√3⋅t⎞      ⎛√3⋅t⎞⎞   2      \n",
       "⎜√3⋅sin⎜────⎟ + cos⎜────⎟⎟⋅ℯ   ⋅θ(t)\n",
       "⎝      ⎝ 2  ⎠      ⎝ 2  ⎠⎠          "
      ]
     },
     "execution_count": 15,
     "metadata": {},
     "output_type": "execute_result"
    }
   ],
   "source": [
    "U = inverse_laplace_transform((s+2)/(s**2+s+1), s, t)\n",
    "U"
   ]
  },
  {
   "cell_type": "code",
   "execution_count": 33,
   "id": "23f3954b",
   "metadata": {},
   "outputs": [
    {
     "data": {
      "image/png": "[encoded data removed]",
      "text/latex": [
       "$\\displaystyle \\frac{1}{\\left(s - 1\\right)^{2} - 1}$"
      ],
      "text/plain": [
       "     1      \n",
       "────────────\n",
       "       2    \n",
       "(s - 1)  - 1"
      ]
     },
     "execution_count": 33,
     "metadata": {},
     "output_type": "execute_result"
    }
   ],
   "source": [
    "U = laplace_transform(sp.exp(t)*sp.sinh(t), t, s)\n",
    "U[0]"
   ]
  },
  {
   "cell_type": "code",
   "execution_count": 2,
   "id": "6037fc59",
   "metadata": {},
   "outputs": [],
   "source": [
    "kc,tauI,tauD,tau,k=sp.symbols(\"kc tauI tauD tau k\",positive=True)"
   ]
  },
  {
   "cell_type": "code",
   "execution_count": 16,
   "id": "f145d56e",
   "metadata": {},
   "outputs": [],
   "source": [
    "expr=(kc+1/(tauI*s)+tauD*s)*(k/(tau*s+1))\n",
    "m=expr/(1+expr)*1/s"
   ]
  },
  {
   "cell_type": "code",
   "execution_count": 17,
   "id": "6cdfc6e0",
   "metadata": {},
   "outputs": [
    {
     "data": {
      "image/png": "[encoded data removed]",
      "text/latex": [
       "$\\displaystyle \\frac{\\tau tauI \\left(\\frac{\\left(\\tau \\left(\\sqrt{tauI} \\left(k kc + 1\\right) - \\sqrt{k^{2} kc^{2} tauI - 4 k^{2} tauD + 2 k kc tauI - 4 k \\tau + tauI}\\right) - \\sqrt{tauI} \\left(2 k tauD + 2 \\tau\\right)\\right) \\left(i e^{- \\frac{t \\left(\\sqrt{tauI} \\left(k kc + 1\\right) - \\cos{\\left(\\frac{\\operatorname{atan}_{2}{\\left(0,k^{2} kc^{2} tauI - 4 k^{2} tauD + 2 k kc tauI - 4 k \\tau + tauI \\right)}}{2} \\right)} \\sqrt{\\left|{k^{2} kc^{2} tauI - 4 k^{2} tauD + 2 k kc tauI - 4 k \\tau + tauI}\\right|}\\right)}{2 \\sqrt{tauI} \\left(k tauD + \\tau\\right)}} \\sin{\\left(\\frac{t \\sin{\\left(\\frac{\\operatorname{atan}_{2}{\\left(0,k^{2} kc^{2} tauI - 4 k^{2} tauD + 2 k kc tauI - 4 k \\tau + tauI \\right)}}{2} \\right)} \\sqrt{\\left|{k^{2} kc^{2} tauI - 4 k^{2} tauD + 2 k kc tauI - 4 k \\tau + tauI}\\right|}}{2 \\sqrt{tauI} \\left(k tauD + \\tau\\right)} \\right)} + e^{- \\frac{t \\left(\\sqrt{tauI} \\left(k kc + 1\\right) - \\cos{\\left(\\frac{\\operatorname{atan}_{2}{\\left(0,k^{2} kc^{2} tauI - 4 k^{2} tauD + 2 k kc tauI - 4 k \\tau + tauI \\right)}}{2} \\right)} \\sqrt{\\left|{k^{2} kc^{2} tauI - 4 k^{2} tauD + 2 k kc tauI - 4 k \\tau + tauI}\\right|}\\right)}{2 \\sqrt{tauI} \\left(k tauD + \\tau\\right)}} \\cos{\\left(\\frac{t \\sin{\\left(\\frac{\\operatorname{atan}_{2}{\\left(0,k^{2} kc^{2} tauI - 4 k^{2} tauD + 2 k kc tauI - 4 k \\tau + tauI \\right)}}{2} \\right)} \\sqrt{\\left|{k^{2} kc^{2} tauI - 4 k^{2} tauD + 2 k kc tauI - 4 k \\tau + tauI}\\right|}}{2 \\sqrt{tauI} \\left(k tauD + \\tau\\right)} \\right)}\\right) \\Gamma\\left(\\frac{2 \\sqrt{k^{2} kc^{2} tauI - 4 k^{2} tauD + 2 k kc tauI - 4 k \\tau + tauI}}{2 k tauD \\sqrt{tauI} + 2 \\tau \\sqrt{tauI}}\\right)}{2 \\tau \\sqrt{tauI} \\left(k tauD + \\tau\\right) \\Gamma\\left(1 + \\frac{2 \\sqrt{k^{2} kc^{2} tauI - 4 k^{2} tauD + 2 k kc tauI - 4 k \\tau + tauI}}{2 k tauD \\sqrt{tauI} + 2 \\tau \\sqrt{tauI}}\\right)} - \\frac{\\left(\\tau \\left(\\sqrt{tauI} \\left(k kc + 1\\right) + \\sqrt{k^{2} kc^{2} tauI - 4 k^{2} tauD + 2 k kc tauI - 4 k \\tau + tauI}\\right) - \\sqrt{tauI} \\left(2 k tauD + 2 \\tau\\right)\\right) \\left(i e^{- \\frac{t \\left(\\sqrt{tauI} \\left(k kc + 1\\right) + \\cos{\\left(\\frac{\\operatorname{atan}_{2}{\\left(0,k^{2} kc^{2} tauI - 4 k^{2} tauD + 2 k kc tauI - 4 k \\tau + tauI \\right)}}{2} \\right)} \\sqrt{\\left|{k^{2} kc^{2} tauI - 4 k^{2} tauD + 2 k kc tauI - 4 k \\tau + tauI}\\right|}\\right)}{2 \\sqrt{tauI} \\left(k tauD + \\tau\\right)}} \\sin{\\left(\\frac{t \\sin{\\left(\\frac{\\operatorname{atan}_{2}{\\left(0,k^{2} kc^{2} tauI - 4 k^{2} tauD + 2 k kc tauI - 4 k \\tau + tauI \\right)}}{2} \\right)} \\sqrt{\\left|{k^{2} kc^{2} tauI - 4 k^{2} tauD + 2 k kc tauI - 4 k \\tau + tauI}\\right|}}{2 \\sqrt{tauI} \\left(k tauD + \\tau\\right)} \\right)} - e^{- \\frac{t \\left(\\sqrt{tauI} \\left(k kc + 1\\right) + \\cos{\\left(\\frac{\\operatorname{atan}_{2}{\\left(0,k^{2} kc^{2} tauI - 4 k^{2} tauD + 2 k kc tauI - 4 k \\tau + tauI \\right)}}{2} \\right)} \\sqrt{\\left|{k^{2} kc^{2} tauI - 4 k^{2} tauD + 2 k kc tauI - 4 k \\tau + tauI}\\right|}\\right)}{2 \\sqrt{tauI} \\left(k tauD + \\tau\\right)}} \\cos{\\left(\\frac{t \\sin{\\left(\\frac{\\operatorname{atan}_{2}{\\left(0,k^{2} kc^{2} tauI - 4 k^{2} tauD + 2 k kc tauI - 4 k \\tau + tauI \\right)}}{2} \\right)} \\sqrt{\\left|{k^{2} kc^{2} tauI - 4 k^{2} tauD + 2 k kc tauI - 4 k \\tau + tauI}\\right|}}{2 \\sqrt{tauI} \\left(k tauD + \\tau\\right)} \\right)}\\right) \\Gamma\\left(- \\frac{2 \\sqrt{k^{2} kc^{2} tauI - 4 k^{2} tauD + 2 k kc tauI - 4 k \\tau + tauI}}{2 k tauD \\sqrt{tauI} + 2 \\tau \\sqrt{tauI}}\\right)}{2 \\tau \\sqrt{tauI} \\left(k tauD + \\tau\\right) \\Gamma\\left(1 - \\frac{2 \\sqrt{k^{2} kc^{2} tauI - 4 k^{2} tauD + 2 k kc tauI - 4 k \\tau + tauI}}{2 k tauD \\sqrt{tauI} + 2 \\tau \\sqrt{tauI}}\\right)}\\right) \\theta\\left(t\\right)}{k tauD tauI + \\tau tauI} + \\theta\\left(t\\right)$"
      ],
      "text/plain": [
       "       ⎛                                                                           \n",
       "       ⎜                                                                           \n",
       "       ⎜                                                                           \n",
       "       ⎜                                                                           \n",
       "       ⎜                                                                           \n",
       "       ⎜⎛  ⎛                         ______________________________________________\n",
       "       ⎜⎜  ⎜  ______                ╱  2   2           2                           \n",
       "       ⎜⎝τ⋅⎝╲╱ tauI ⋅(k⋅kc + 1) - ╲╱  k ⋅kc ⋅tauI - 4⋅k ⋅tauD + 2⋅k⋅kc⋅tauI - 4⋅k⋅τ\n",
       "       ⎜                                                                           \n",
       "       ⎜                                                                           \n",
       "τ⋅tauI⋅⎜───────────────────────────────────────────────────────────────────────────\n",
       "       ⎜                                                                           \n",
       "       ⎜                                                                           \n",
       "       ⎜                                                                           \n",
       "       ⎜                                                                           \n",
       "       ⎜                                                                           \n",
       "       ⎝                                                                           \n",
       "───────────────────────────────────────────────────────────────────────────────────\n",
       "                                                                                   \n",
       "\n",
       "                                       ⎛      ⎛                         ⎛     ⎛    \n",
       "                                       ⎜      ⎜  ______                 ⎜atan2⎝0, k\n",
       "                                       ⎜   -t⋅⎜╲╱ tauI ⋅(k⋅kc + 1) - cos⎜──────────\n",
       "                                       ⎜      ⎝                         ⎝          \n",
       "                                       ⎜   ────────────────────────────────────────\n",
       "________⎞                            ⎞ ⎜                                           \n",
       "        ⎟     ______                 ⎟ ⎜                                           \n",
       " + tauI ⎠ - ╲╱ tauI ⋅(2⋅k⋅tauD + 2⋅τ)⎠⋅⎜ⅈ⋅ℯ                                        \n",
       "                                       ⎜                                           \n",
       "                                       ⎝                                           \n",
       "───────────────────────────────────────────────────────────────────────────────────\n",
       "                                                                                   \n",
       "                                                                                   \n",
       "                                                                                   \n",
       "                                                                                   \n",
       "                                                                                   \n",
       "                                                                                   \n",
       "───────────────────────────────────────────────────────────────────────────────────\n",
       "                                                                                   \n",
       "\n",
       "2   2           2                                  ⎞⎞    __________________________\n",
       " ⋅kc ⋅tauI - 4⋅k ⋅tauD + 2⋅k⋅kc⋅tauI - 4⋅k⋅τ + tauI⎠⎟   ╱ │ 2   2           2      \n",
       "────────────────────────────────────────────────────⎟⋅╲╱  │k ⋅kc ⋅tauI - 4⋅k ⋅tauD \n",
       "                    2                               ⎠                              \n",
       "───────────────────────────────────────────────────────────────────────────────────\n",
       "                              ______                                               \n",
       "                          2⋅╲╱ tauI ⋅(k⋅tauD + τ)                                  \n",
       "                                                                                   \n",
       "                                                                                   \n",
       "                                                                                   \n",
       "───────────────────────────────────────────────────────────────────────────────────\n",
       "                                                                                   \n",
       "                                                                                   \n",
       "                                                                                   \n",
       "                                                                                   \n",
       "                                                                                   \n",
       "                                                                                   \n",
       "───────────────────────────────────────────────────────────────────────────────────\n",
       "                                                                                   \n",
       "\n",
       "______________________________⎞                                                    \n",
       "                            │ ⎟                                                    \n",
       "+ 2⋅k⋅kc⋅tauI - 4⋅k⋅τ + tauI│ ⎟                                                    \n",
       "                              ⎠     ⎛     ⎛     ⎛    2   2           2             \n",
       "────────────────────────────────    ⎜     ⎜atan2⎝0, k ⋅kc ⋅tauI - 4⋅k ⋅tauD + 2⋅k⋅k\n",
       "                                    ⎜t⋅sin⎜────────────────────────────────────────\n",
       "                                    ⎜     ⎝                              2         \n",
       "                                ⋅sin⎜──────────────────────────────────────────────\n",
       "                                    ⎜                                              \n",
       "                                    ⎝                                              \n",
       "───────────────────────────────────────────────────────────────────────────────────\n",
       "                                                                                   \n",
       "                                                                                   \n",
       "                                                                                   \n",
       "                                                                                   \n",
       "                                                                                   \n",
       "                                                                                   \n",
       "───────────────────────────────────────────────────────────────────────────────────\n",
       "                                                                                   \n",
       "\n",
       "                                                                                   \n",
       "                                                                                   \n",
       "                                                                                   \n",
       "                     ⎞⎞    ________________________________________________________\n",
       "c⋅tauI - 4⋅k⋅τ + tauI⎠⎟   ╱ │ 2   2           2                                  │ \n",
       "──────────────────────⎟⋅╲╱  │k ⋅kc ⋅tauI - 4⋅k ⋅tauD + 2⋅k⋅kc⋅tauI - 4⋅k⋅τ + tauI│ \n",
       "                      ⎠                                                            \n",
       "───────────────────────────────────────────────────────────────────────────────────\n",
       "           ______                                                                  \n",
       "       2⋅╲╱ tauI ⋅(k⋅tauD + τ)                                                     \n",
       "───────────────────────────────────────────────────────────────────────────────────\n",
       "                                        ⎛         _________________________________\n",
       "                                        ⎜        ╱  2   2           2              \n",
       "                   ______               ⎜    2⋅╲╱  k ⋅kc ⋅tauI - 4⋅k ⋅tauD + 2⋅k⋅kc\n",
       "             2⋅τ⋅╲╱ tauI ⋅(k⋅tauD + τ)⋅Γ⎜1 + ──────────────────────────────────────\n",
       "                                        ⎜                             ______       \n",
       "                                        ⎝                  2⋅k⋅tauD⋅╲╱ tauI  + 2⋅τ⋅\n",
       "───────────────────────────────────────────────────────────────────────────────────\n",
       "                                                                                   \n",
       "\n",
       "        ⎛                         ⎛     ⎛    2   2           2                     \n",
       "        ⎜  ______                 ⎜atan2⎝0, k ⋅kc ⋅tauI - 4⋅k ⋅tauD + 2⋅k⋅kc⋅tauI -\n",
       "     -t⋅⎜╲╱ tauI ⋅(k⋅kc + 1) - cos⎜────────────────────────────────────────────────\n",
       "⎞       ⎝                         ⎝                              2                 \n",
       "⎟    ──────────────────────────────────────────────────────────────────────────────\n",
       "⎟                                                                          ______  \n",
       "⎟                                                                      2⋅╲╱ tauI ⋅(\n",
       "⎟ + ℯ                                                                              \n",
       "⎟                                                                                  \n",
       "⎠                                                                                  \n",
       "───────────────────────────────────────────────────────────────────────────────────\n",
       "_____________________⎞                                                             \n",
       "                     ⎟                                                             \n",
       "⋅tauI - 4⋅k⋅τ + tauI ⎟                                                             \n",
       "─────────────────────⎟                                                             \n",
       "  ______             ⎟                                                             \n",
       "╲╱ tauI              ⎠                                                             \n",
       "───────────────────────────────────────────────────────────────────────────────────\n",
       "                                                                                   \n",
       "\n",
       "             ⎞⎞    ________________________________________________________⎞       \n",
       " 4⋅k⋅τ + tauI⎠⎟   ╱ │ 2   2           2                                  │ ⎟       \n",
       "──────────────⎟⋅╲╱  │k ⋅kc ⋅tauI - 4⋅k ⋅tauD + 2⋅k⋅kc⋅tauI - 4⋅k⋅τ + tauI│ ⎟       \n",
       "              ⎠                                                            ⎠     ⎛ \n",
       "─────────────────────────────────────────────────────────────────────────────    ⎜ \n",
       "                                                                                 ⎜t\n",
       "k⋅tauD + τ)                                                                      ⎜ \n",
       "                                                                             ⋅cos⎜─\n",
       "                                                                                 ⎜ \n",
       "                                                                                 ⎝ \n",
       "───────────────────────────────────────────────────────────────────────────────────\n",
       "                                                                                   \n",
       "                                                                                   \n",
       "                                                                                   \n",
       "                                                                                   \n",
       "                                                                                   \n",
       "                                                                                   \n",
       "───────────────────────────────────────────────────────────────────────────────────\n",
       "                                                                                   \n",
       "\n",
       "                                                                                   \n",
       "                                                                                   \n",
       "                                                                                   \n",
       "    ⎛     ⎛    2   2           2                                  ⎞⎞    ___________\n",
       "    ⎜atan2⎝0, k ⋅kc ⋅tauI - 4⋅k ⋅tauD + 2⋅k⋅kc⋅tauI - 4⋅k⋅τ + tauI⎠⎟   ╱ │ 2   2   \n",
       "⋅sin⎜──────────────────────────────────────────────────────────────⎟⋅╲╱  │k ⋅kc ⋅ta\n",
       "    ⎝                              2                               ⎠               \n",
       "───────────────────────────────────────────────────────────────────────────────────\n",
       "                                                        ______                     \n",
       "                                                    2⋅╲╱ tauI ⋅(k⋅tauD + τ)        \n",
       "───────────────────────────────────────────────────────────────────────────────────\n",
       "                                                                                   \n",
       "                                                                                   \n",
       "                                                                                   \n",
       "                                                                                   \n",
       "                                                                                   \n",
       "                                                                                   \n",
       "───────────────────────────────────────────────────────────────────────────────────\n",
       "                                                                                   \n",
       "\n",
       "                                              ⎞                                    \n",
       "                                              ⎟                                    \n",
       "                                              ⎟                                    \n",
       "_____________________________________________⎞⎟                                    \n",
       "        2                                  │ ⎟⎟  ⎛     ____________________________\n",
       "uI - 4⋅k ⋅tauD + 2⋅k⋅kc⋅tauI - 4⋅k⋅τ + tauI│ ⎟⎟  ⎜    ╱  2   2           2         \n",
       "                                             ⎟⎟  ⎜2⋅╲╱  k ⋅kc ⋅tauI - 4⋅k ⋅tauD + 2\n",
       "─────────────────────────────────────────────⎟⎟⋅Γ⎜─────────────────────────────────\n",
       "                                             ⎟⎟  ⎜                         ______  \n",
       "                                             ⎠⎠  ⎝              2⋅k⋅tauD⋅╲╱ tauI  +\n",
       "───────────────────────────────────────────────────────────────────────────────────\n",
       "                                                                                   \n",
       "                                                                                   \n",
       "                                                                                   \n",
       "                                                                                   \n",
       "                                                                                   \n",
       "                                                                                   \n",
       "───────────────────────────────────────────────────────────────────────────────────\n",
       "                                                                                   \n",
       "\n",
       "                                                                                   \n",
       "                                                                                   \n",
       "                                                                                   \n",
       "                                                                                   \n",
       "__________________________⎞                                                        \n",
       "                          ⎟   ⎛  ⎛                         ________________________\n",
       "⋅k⋅kc⋅tauI - 4⋅k⋅τ + tauI ⎟   ⎜  ⎜  ______                ╱  2   2           2     \n",
       "──────────────────────────⎟   ⎝τ⋅⎝╲╱ tauI ⋅(k⋅kc + 1) + ╲╱  k ⋅kc ⋅tauI - 4⋅k ⋅tauD\n",
       "       ______             ⎟                                                        \n",
       " 2⋅τ⋅╲╱ tauI              ⎠                                                        \n",
       "─────────────────────────── - ─────────────────────────────────────────────────────\n",
       "                                                                                   \n",
       "                                                                                   \n",
       "                                                                                   \n",
       "                                                                                   \n",
       "                                                                                   \n",
       "                                                                                   \n",
       "───────────────────────────────────────────────────────────────────────────────────\n",
       "                   k⋅tauD⋅tauI + τ⋅tauI                                            \n",
       "\n",
       "                                                             ⎛      ⎛              \n",
       "                                                             ⎜      ⎜  ______      \n",
       "                                                             ⎜   -t⋅⎜╲╱ tauI ⋅(k⋅kc\n",
       "                                                             ⎜      ⎝              \n",
       "                                                             ⎜   ──────────────────\n",
       "______________________________⎞                            ⎞ ⎜                     \n",
       "                              ⎟     ______                 ⎟ ⎜                     \n",
       " + 2⋅k⋅kc⋅tauI - 4⋅k⋅τ + tauI ⎠ - ╲╱ tauI ⋅(2⋅k⋅tauD + 2⋅τ)⎠⋅⎜ⅈ⋅ℯ                  \n",
       "                                                             ⎜                     \n",
       "                                                             ⎝                     \n",
       "───────────────────────────────────────────────────────────────────────────────────\n",
       "                                                                                   \n",
       "                                                                                   \n",
       "                                                                                   \n",
       "                                                                                   \n",
       "                                                                                   \n",
       "                                                                                   \n",
       "───────────────────────────────────────────────────────────────────────────────────\n",
       "                                                                                   \n",
       "\n",
       "           ⎛     ⎛    2   2           2                                  ⎞⎞    ____\n",
       "           ⎜atan2⎝0, k ⋅kc ⋅tauI - 4⋅k ⋅tauD + 2⋅k⋅kc⋅tauI - 4⋅k⋅τ + tauI⎠⎟   ╱ │ 2\n",
       " + 1) + cos⎜──────────────────────────────────────────────────────────────⎟⋅╲╱  │k \n",
       "           ⎝                              2                               ⎠        \n",
       "───────────────────────────────────────────────────────────────────────────────────\n",
       "                                                    ______                         \n",
       "                                                2⋅╲╱ tauI ⋅(k⋅tauD + τ)            \n",
       "                                                                                   \n",
       "                                                                                   \n",
       "                                                                                   \n",
       "───────────────────────────────────────────────────────────────────────────────────\n",
       "                                                                                   \n",
       "                                                                                   \n",
       "                                                                                   \n",
       "                                                                                   \n",
       "                                                                                   \n",
       "                                                                                   \n",
       "───────────────────────────────────────────────────────────────────────────────────\n",
       "                                                                                   \n",
       "\n",
       "____________________________________________________⎞                              \n",
       "   2           2                                  │ ⎟                              \n",
       "⋅kc ⋅tauI - 4⋅k ⋅tauD + 2⋅k⋅kc⋅tauI - 4⋅k⋅τ + tauI│ ⎟                              \n",
       "                                                    ⎠     ⎛     ⎛     ⎛    2   2   \n",
       "──────────────────────────────────────────────────────    ⎜     ⎜atan2⎝0, k ⋅kc ⋅ta\n",
       "                                                          ⎜t⋅sin⎜──────────────────\n",
       "                                                          ⎜     ⎝                  \n",
       "                                                      ⋅sin⎜────────────────────────\n",
       "                                                          ⎜                        \n",
       "                                                          ⎝                        \n",
       "───────────────────────────────────────────────────────────────────────────────────\n",
       "                                                                                   \n",
       "                                                                                   \n",
       "                                                                                   \n",
       "                                                                                   \n",
       "                                                                                   \n",
       "                                                                                   \n",
       "───────────────────────────────────────────────────────────────────────────────────\n",
       "                                                                                   \n",
       "\n",
       "                                                                                   \n",
       "                                                                                   \n",
       "                                                                                   \n",
       "        2                                  ⎞⎞    __________________________________\n",
       "uI - 4⋅k ⋅tauD + 2⋅k⋅kc⋅tauI - 4⋅k⋅τ + tauI⎠⎟   ╱ │ 2   2           2              \n",
       "────────────────────────────────────────────⎟⋅╲╱  │k ⋅kc ⋅tauI - 4⋅k ⋅tauD + 2⋅k⋅kc\n",
       "            2                               ⎠                                      \n",
       "───────────────────────────────────────────────────────────────────────────────────\n",
       "                                 ______                                            \n",
       "                             2⋅╲╱ tauI ⋅(k⋅tauD + τ)                               \n",
       "───────────────────────────────────────────────────────────────────────────────────\n",
       "                                                               ⎛         __________\n",
       "                                                               ⎜        ╱  2   2   \n",
       "                                          ______               ⎜    2⋅╲╱  k ⋅kc ⋅ta\n",
       "                                    2⋅τ⋅╲╱ tauI ⋅(k⋅tauD + τ)⋅Γ⎜1 - ───────────────\n",
       "                                                               ⎜                   \n",
       "                                                               ⎝                  2\n",
       "───────────────────────────────────────────────────────────────────────────────────\n",
       "                                                                                   \n",
       "\n",
       "                              ⎛                         ⎛     ⎛    2   2           \n",
       "                              ⎜  ______                 ⎜atan2⎝0, k ⋅kc ⋅tauI - 4⋅k\n",
       "                           -t⋅⎜╲╱ tauI ⋅(k⋅kc + 1) + cos⎜──────────────────────────\n",
       "______________________⎞       ⎝                         ⎝                          \n",
       "                    │ ⎟    ────────────────────────────────────────────────────────\n",
       "⋅tauI - 4⋅k⋅τ + tauI│ ⎟                                                            \n",
       "                      ⎟                                                            \n",
       "──────────────────────⎟ - ℯ                                                        \n",
       "                      ⎟                                                            \n",
       "                      ⎠                                                            \n",
       "───────────────────────────────────────────────────────────────────────────────────\n",
       "____________________________________________⎞                                      \n",
       "        2                                   ⎟                                      \n",
       "uI - 4⋅k ⋅tauD + 2⋅k⋅kc⋅tauI - 4⋅k⋅τ + tauI ⎟                                      \n",
       "────────────────────────────────────────────⎟                                      \n",
       "          ______         ______             ⎟                                      \n",
       "⋅k⋅tauD⋅╲╱ tauI  + 2⋅τ⋅╲╱ tauI              ⎠                                      \n",
       "───────────────────────────────────────────────────────────────────────────────────\n",
       "                                                                                   \n",
       "\n",
       "2                                  ⎞⎞    __________________________________________\n",
       " ⋅tauD + 2⋅k⋅kc⋅tauI - 4⋅k⋅τ + tauI⎠⎟   ╱ │ 2   2           2                      \n",
       "────────────────────────────────────⎟⋅╲╱  │k ⋅kc ⋅tauI - 4⋅k ⋅tauD + 2⋅k⋅kc⋅tauI - \n",
       "    2                               ⎠                                              \n",
       "───────────────────────────────────────────────────────────────────────────────────\n",
       "              ______                                                               \n",
       "          2⋅╲╱ tauI ⋅(k⋅tauD + τ)                                                  \n",
       "                                                                                   \n",
       "                                                                                   \n",
       "                                                                                   \n",
       "───────────────────────────────────────────────────────────────────────────────────\n",
       "                                                                                   \n",
       "                                                                                   \n",
       "                                                                                   \n",
       "                                                                                   \n",
       "                                                                                   \n",
       "                                                                                   \n",
       "───────────────────────────────────────────────────────────────────────────────────\n",
       "                                                                                   \n",
       "\n",
       "______________⎞                                                                    \n",
       "            │ ⎟                                                                    \n",
       "4⋅k⋅τ + tauI│ ⎟                                                                    \n",
       "              ⎠     ⎛     ⎛     ⎛    2   2           2                             \n",
       "────────────────    ⎜     ⎜atan2⎝0, k ⋅kc ⋅tauI - 4⋅k ⋅tauD + 2⋅k⋅kc⋅tauI - 4⋅k⋅τ +\n",
       "                    ⎜t⋅sin⎜────────────────────────────────────────────────────────\n",
       "                    ⎜     ⎝                              2                         \n",
       "                ⋅cos⎜──────────────────────────────────────────────────────────────\n",
       "                    ⎜                                                         _____\n",
       "                    ⎝                                                     2⋅╲╱ tauI\n",
       "───────────────────────────────────────────────────────────────────────────────────\n",
       "                                                                                   \n",
       "                                                                                   \n",
       "                                                                                   \n",
       "                                                                                   \n",
       "                                                                                   \n",
       "                                                                                   \n",
       "───────────────────────────────────────────────────────────────────────────────────\n",
       "                                                                                   \n",
       "\n",
       "                                                                    ⎞              \n",
       "                                                                    ⎟              \n",
       "                                                                    ⎟              \n",
       "     ⎞⎞    ________________________________________________________⎞⎟              \n",
       " tauI⎠⎟   ╱ │ 2   2           2                                  │ ⎟⎟  ⎛      _____\n",
       "──────⎟⋅╲╱  │k ⋅kc ⋅tauI - 4⋅k ⋅tauD + 2⋅k⋅kc⋅tauI - 4⋅k⋅τ + tauI│ ⎟⎟  ⎜     ╱  2  \n",
       "      ⎠                                                            ⎟⎟  ⎜-2⋅╲╱  k ⋅k\n",
       "───────────────────────────────────────────────────────────────────⎟⎟⋅Γ⎜───────────\n",
       "_                                                                  ⎟⎟  ⎜           \n",
       " ⋅(k⋅tauD + τ)                                                     ⎠⎠  ⎝           \n",
       "───────────────────────────────────────────────────────────────────────────────────\n",
       "                                                                                   \n",
       "                                                                                   \n",
       "                                                                                   \n",
       "                                                                                   \n",
       "                                                                                   \n",
       "                                                                                   \n",
       "───────────────────────────────────────────────────────────────────────────────────\n",
       "                                                                                   \n",
       "\n",
       "                                                   ⎞            \n",
       "                                                   ⎟            \n",
       "                                                   ⎟            \n",
       "                                                   ⎟            \n",
       "_________________________________________________ ⎞⎟            \n",
       " 2           2                                    ⎟⎟            \n",
       "c ⋅tauI - 4⋅k ⋅tauD + 2⋅k⋅kc⋅tauI - 4⋅k⋅τ + tauI  ⎟⎟            \n",
       "──────────────────────────────────────────────────⎟⎟            \n",
       "               ______         ______              ⎟⎟            \n",
       "    2⋅k⋅tauD⋅╲╱ tauI  + 2⋅τ⋅╲╱ tauI               ⎠⎟            \n",
       "───────────────────────────────────────────────────⎟⋅θ(t)       \n",
       "                                                   ⎟            \n",
       "                                                   ⎟            \n",
       "                                                   ⎟            \n",
       "                                                   ⎟            \n",
       "                                                   ⎟            \n",
       "                                                   ⎠            \n",
       "───────────────────────────────────────────────────────── + θ(t)\n",
       "                                                                "
      ]
     },
     "execution_count": 17,
     "metadata": {},
     "output_type": "execute_result"
    }
   ],
   "source": [
    "sp.inverse_laplace_transform(m,s,t)"
   ]
  },
  {
   "cell_type": "code",
   "execution_count": null,
   "id": "e6c33187",
   "metadata": {},
   "outputs": [],
   "source": []
  }
 ],
 "metadata": {
  "kernelspec": {
   "display_name": "Python 3 (ipykernel)",
   "language": "python",
   "name": "python3"
  },
  "language_info": {
   "codemirror_mode": {
    "name": "ipython",
    "version": 3
   },
   "file_extension": ".py",
   "mimetype": "text/x-python",
   "name": "python",
   "nbconvert_exporter": "python",
   "pygments_lexer": "ipython3",
   "version": "3.11.0"
  }
 },
 "nbformat": 4,
 "nbformat_minor": 5
}
