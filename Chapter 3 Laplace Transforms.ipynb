{
 "cells": [
  {
   "cell_type": "code",
   "execution_count": 7,
   "id": "5b6aa774",
   "metadata": {},
   "outputs": [],
   "source": [
    "import sympy as sym\n",
    "from sympy.abc import s,t,x,y,z\n",
    "from sympy.integrals import laplace_transform\n",
    "from sympy.integrals import inverse_laplace_transform"
   ]
  },
  {
   "cell_type": "code",
   "execution_count": 8,
   "id": "9a2bfd90",
   "metadata": {},
   "outputs": [
    {
     "name": "stdout",
     "output_type": "stream",
     "text": [
      "U\n",
      "5/s**2\n"
     ]
    }
   ],
   "source": [
    "# Laplace transform (t->s)\n",
    "U = laplace_transform(5*t, t, s)\n",
    "print('U')\n",
    "print(U[0])\n",
    "# Result: 5/s**2"
   ]
  },
  {
   "cell_type": "code",
   "execution_count": 9,
   "id": "5dee6780",
   "metadata": {},
   "outputs": [
    {
     "name": "stdout",
     "output_type": "stream",
     "text": [
      "X\n",
      "5*t*Heaviside(t)\n"
     ]
    }
   ],
   "source": [
    "# Inverse Laplace transform (s->t)\n",
    "X = inverse_laplace_transform(U[0],s,t)\n",
    "print('X')\n",
    "print(X)\n",
    "# Result: 5*t*Heaviside(t)"
   ]
  },
  {
   "cell_type": "code",
   "execution_count": 10,
   "id": "44b4ec66",
   "metadata": {},
   "outputs": [
    {
     "name": "stdout",
     "output_type": "stream",
     "text": [
      "F\n",
      "(5*s + 5)/(s + 3)**2\n"
     ]
    }
   ],
   "source": [
    "# Function\n",
    "F = 5*(s+1)/(s+3)**2\n",
    "print('F')\n",
    "print(F)\n",
    "# Result: (5*s + 5)/(s + 3)**2"
   ]
  },
  {
   "cell_type": "code",
   "execution_count": 11,
   "id": "c9681569",
   "metadata": {},
   "outputs": [
    {
     "name": "stdout",
     "output_type": "stream",
     "text": [
      "G\n",
      "5/(s + 3) - 10/(s + 3)**2\n"
     ]
    }
   ],
   "source": [
    "# Partial fraction decomposition\n",
    "G = sym.apart(F)\n",
    "print('G')\n",
    "print(G)\n",
    "# Result: 5/(s + 3) - 10/(s + 3)**2"
   ]
  },
  {
   "cell_type": "code",
   "execution_count": 12,
   "id": "d1d0adfd",
   "metadata": {},
   "outputs": [
    {
     "name": "stdout",
     "output_type": "stream",
     "text": [
      "d2\n",
      "s**4 + 7*s**3 + 16*s**2 + 13*s + 3\n"
     ]
    }
   ],
   "source": [
    "# denominator of transfer function\n",
    "d1 = (s+1)*(s+3)*(s**2+3*s+1)\n",
    "\n",
    "# expand polynomial\n",
    "d2 = sym.expand(d1)\n",
    "print('d2')\n",
    "print(d2)\n",
    "# Result: s**4 + 7*s**3 + 16*s**2 + 13*s + 3"
   ]
  },
  {
   "cell_type": "code",
   "execution_count": 13,
   "id": "38d2a4ab",
   "metadata": {},
   "outputs": [
    {
     "name": "stdout",
     "output_type": "stream",
     "text": [
      "{-1: 1, -3: 1, -3/2 - sqrt(5)/2: 1, -3/2 + sqrt(5)/2: 1}\n"
     ]
    }
   ],
   "source": [
    "# find roots\n",
    "print(sym.roots(d2))\n",
    "# Result: {-1: 1, -3: 1, -3/2 - sqrt(5)/2: 1, -3/2 + sqrt(5)/2: 1}"
   ]
  },
  {
   "cell_type": "code",
   "execution_count": null,
   "id": "cf93e19d",
   "metadata": {},
   "outputs": [],
   "source": []
  }
 ],
 "metadata": {
  "kernelspec": {
   "display_name": "Python 3 (ipykernel)",
   "language": "python",
   "name": "python3"
  },
  "language_info": {
   "codemirror_mode": {
    "name": "ipython",
    "version": 3
   },
   "file_extension": ".py",
   "mimetype": "text/x-python",
   "name": "python",
   "nbconvert_exporter": "python",
   "pygments_lexer": "ipython3",
   "version": "3.9.7"
  }
 },
 "nbformat": 4,
 "nbformat_minor": 5
}
